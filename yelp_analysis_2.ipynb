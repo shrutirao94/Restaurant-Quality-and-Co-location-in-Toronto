{
 "cells": [
  {
   "cell_type": "code",
   "execution_count": 26,
   "metadata": {},
   "outputs": [],
   "source": [
    "import csv\n",
    "import pandas as pd\n",
    "import numpy as np\n",
    "import pandas as pd\n",
    "import seaborn as sns\n",
    "import operator #need this for sorting dicts later\n",
    "import matplotlib.cm as cm #for colormapping later\n",
    "from matplotlib.colors import LogNorm\n",
    "import matplotlib as mpl\n",
    "import matplotlib.pyplot as plt\n",
    "import math\n",
    "%matplotlib inline"
   ]
  },
  {
   "cell_type": "markdown",
   "metadata": {},
   "source": [
    "Import custom restauramt and not_restaurant csv files as dataframes"
   ]
  },
  {
   "cell_type": "code",
   "execution_count": 27,
   "metadata": {},
   "outputs": [
    {
     "data": {
      "text/html": [
       "<div>\n",
       "<style>\n",
       "    .dataframe thead tr:only-child th {\n",
       "        text-align: right;\n",
       "    }\n",
       "\n",
       "    .dataframe thead th {\n",
       "        text-align: left;\n",
       "    }\n",
       "\n",
       "    .dataframe tbody tr th {\n",
       "        vertical-align: top;\n",
       "    }\n",
       "</style>\n",
       "<table border=\"1\" class=\"dataframe\">\n",
       "  <thead>\n",
       "    <tr style=\"text-align: right;\">\n",
       "      <th></th>\n",
       "      <th>name</th>\n",
       "      <th>postal_code</th>\n",
       "      <th>latitude</th>\n",
       "      <th>longitude</th>\n",
       "      <th>neighborhood</th>\n",
       "      <th>categories</th>\n",
       "      <th>stars</th>\n",
       "      <th>review_count</th>\n",
       "      <th>index_no</th>\n",
       "    </tr>\n",
       "  </thead>\n",
       "  <tbody>\n",
       "    <tr>\n",
       "      <th>0</th>\n",
       "      <td>McCarthy's Irish Pub</td>\n",
       "      <td>M4L 2B5</td>\n",
       "      <td>43.678049</td>\n",
       "      <td>-79.314774</td>\n",
       "      <td>Upper Beach</td>\n",
       "      <td>[u'Pubs', u'Restaurants', u'Bars', u'Irish', u...</td>\n",
       "      <td>4.0</td>\n",
       "      <td>5</td>\n",
       "      <td>0</td>\n",
       "    </tr>\n",
       "    <tr>\n",
       "      <th>1</th>\n",
       "      <td>Boardwalk Place</td>\n",
       "      <td>M4W 3L6</td>\n",
       "      <td>43.663010</td>\n",
       "      <td>-79.310898</td>\n",
       "      <td>NaN</td>\n",
       "      <td>[u'American (Traditional)', u'Restaurants', u'...</td>\n",
       "      <td>3.0</td>\n",
       "      <td>13</td>\n",
       "      <td>1</td>\n",
       "    </tr>\n",
       "    <tr>\n",
       "      <th>2</th>\n",
       "      <td>The Yellow Griffin</td>\n",
       "      <td>M6S 1N4</td>\n",
       "      <td>43.651439</td>\n",
       "      <td>-79.475629</td>\n",
       "      <td>Bloor-West Village</td>\n",
       "      <td>[u'Pubs', u'Restaurants', u'Burgers', u'Nightl...</td>\n",
       "      <td>3.0</td>\n",
       "      <td>98</td>\n",
       "      <td>2</td>\n",
       "    </tr>\n",
       "    <tr>\n",
       "      <th>3</th>\n",
       "      <td>Cabin Fever</td>\n",
       "      <td>M6P 1A6</td>\n",
       "      <td>43.655350</td>\n",
       "      <td>-79.456719</td>\n",
       "      <td>High Park</td>\n",
       "      <td>[u'Cafes', u'Art Galleries', u'Arts &amp; Entertai...</td>\n",
       "      <td>4.5</td>\n",
       "      <td>26</td>\n",
       "      <td>3</td>\n",
       "    </tr>\n",
       "    <tr>\n",
       "      <th>4</th>\n",
       "      <td>Bar Homestand</td>\n",
       "      <td>M6G 1M2</td>\n",
       "      <td>43.662600</td>\n",
       "      <td>-79.423726</td>\n",
       "      <td>Christie Pits</td>\n",
       "      <td>[u'Comfort Food', u'Pubs', u'Bars', u'Sports B...</td>\n",
       "      <td>3.5</td>\n",
       "      <td>5</td>\n",
       "      <td>4</td>\n",
       "    </tr>\n",
       "  </tbody>\n",
       "</table>\n",
       "</div>"
      ],
      "text/plain": [
       "                   name postal_code   latitude  longitude        neighborhood  \\\n",
       "0  McCarthy's Irish Pub     M4L 2B5  43.678049 -79.314774         Upper Beach   \n",
       "1       Boardwalk Place     M4W 3L6  43.663010 -79.310898                 NaN   \n",
       "2    The Yellow Griffin     M6S 1N4  43.651439 -79.475629  Bloor-West Village   \n",
       "3           Cabin Fever     M6P 1A6  43.655350 -79.456719           High Park   \n",
       "4         Bar Homestand     M6G 1M2  43.662600 -79.423726       Christie Pits   \n",
       "\n",
       "                                          categories  stars  review_count  \\\n",
       "0  [u'Pubs', u'Restaurants', u'Bars', u'Irish', u...    4.0             5   \n",
       "1  [u'American (Traditional)', u'Restaurants', u'...    3.0            13   \n",
       "2  [u'Pubs', u'Restaurants', u'Burgers', u'Nightl...    3.0            98   \n",
       "3  [u'Cafes', u'Art Galleries', u'Arts & Entertai...    4.5            26   \n",
       "4  [u'Comfort Food', u'Pubs', u'Bars', u'Sports B...    3.5             5   \n",
       "\n",
       "   index_no  \n",
       "0         0  \n",
       "1         1  \n",
       "2         2  \n",
       "3         3  \n",
       "4         4  "
      ]
     },
     "execution_count": 27,
     "metadata": {},
     "output_type": "execute_result"
    }
   ],
   "source": [
    "not_restaurant_df = pd.read_csv('not_restaurant.csv')\n",
    "not_restaurant_df = not_restaurant_df.drop(['Unnamed: 0','city','distance'], 1)\n",
    "not_restaurant_df = not_restaurant_df.drop_duplicates(subset=['name','postal_code','latitude','longitude','neighborhood'], keep=False)\n",
    "pubs_df = pd.read_csv('pubs.csv')\n",
    "pubs_df = pubs_df.drop(['city','Unnamed: 0'], 1)\n",
    "pubs_df = pubs_df.drop_duplicates(subset=['name','postal_code','latitude','longitude','neighborhood'], keep=False)\n",
    "pubs_df['index_no'] = pubs_df.index\n",
    "pubs_df.head()"
   ]
  },
  {
   "cell_type": "code",
   "execution_count": 28,
   "metadata": {},
   "outputs": [
    {
     "data": {
      "text/html": [
       "<div>\n",
       "<style>\n",
       "    .dataframe thead tr:only-child th {\n",
       "        text-align: right;\n",
       "    }\n",
       "\n",
       "    .dataframe thead th {\n",
       "        text-align: left;\n",
       "    }\n",
       "\n",
       "    .dataframe tbody tr th {\n",
       "        vertical-align: top;\n",
       "    }\n",
       "</style>\n",
       "<table border=\"1\" class=\"dataframe\">\n",
       "  <thead>\n",
       "    <tr style=\"text-align: right;\">\n",
       "      <th></th>\n",
       "      <th>latitude</th>\n",
       "      <th>longitude</th>\n",
       "      <th>stars</th>\n",
       "      <th>review_count</th>\n",
       "    </tr>\n",
       "  </thead>\n",
       "  <tbody>\n",
       "    <tr>\n",
       "      <th>count</th>\n",
       "      <td>3738.000000</td>\n",
       "      <td>3738.000000</td>\n",
       "      <td>3738.000000</td>\n",
       "      <td>3738.000000</td>\n",
       "    </tr>\n",
       "    <tr>\n",
       "      <th>mean</th>\n",
       "      <td>43.659746</td>\n",
       "      <td>-79.390947</td>\n",
       "      <td>3.702381</td>\n",
       "      <td>12.928571</td>\n",
       "    </tr>\n",
       "    <tr>\n",
       "      <th>std</th>\n",
       "      <td>0.863939</td>\n",
       "      <td>0.454143</td>\n",
       "      <td>0.979130</td>\n",
       "      <td>24.914754</td>\n",
       "    </tr>\n",
       "    <tr>\n",
       "      <th>min</th>\n",
       "      <td>-9.095137</td>\n",
       "      <td>-79.653939</td>\n",
       "      <td>1.000000</td>\n",
       "      <td>3.000000</td>\n",
       "    </tr>\n",
       "    <tr>\n",
       "      <th>25%</th>\n",
       "      <td>43.649911</td>\n",
       "      <td>-79.419545</td>\n",
       "      <td>3.000000</td>\n",
       "      <td>4.000000</td>\n",
       "    </tr>\n",
       "    <tr>\n",
       "      <th>50%</th>\n",
       "      <td>43.662539</td>\n",
       "      <td>-79.395460</td>\n",
       "      <td>4.000000</td>\n",
       "      <td>6.000000</td>\n",
       "    </tr>\n",
       "    <tr>\n",
       "      <th>75%</th>\n",
       "      <td>43.680457</td>\n",
       "      <td>-79.378843</td>\n",
       "      <td>4.500000</td>\n",
       "      <td>13.000000</td>\n",
       "    </tr>\n",
       "    <tr>\n",
       "      <th>max</th>\n",
       "      <td>43.844762</td>\n",
       "      <td>-51.833829</td>\n",
       "      <td>5.000000</td>\n",
       "      <td>530.000000</td>\n",
       "    </tr>\n",
       "  </tbody>\n",
       "</table>\n",
       "</div>"
      ],
      "text/plain": [
       "          latitude    longitude        stars  review_count\n",
       "count  3738.000000  3738.000000  3738.000000   3738.000000\n",
       "mean     43.659746   -79.390947     3.702381     12.928571\n",
       "std       0.863939     0.454143     0.979130     24.914754\n",
       "min      -9.095137   -79.653939     1.000000      3.000000\n",
       "25%      43.649911   -79.419545     3.000000      4.000000\n",
       "50%      43.662539   -79.395460     4.000000      6.000000\n",
       "75%      43.680457   -79.378843     4.500000     13.000000\n",
       "max      43.844762   -51.833829     5.000000    530.000000"
      ]
     },
     "execution_count": 28,
     "metadata": {},
     "output_type": "execute_result"
    }
   ],
   "source": [
    "not_restaurant_df.describe()"
   ]
  },
  {
   "cell_type": "code",
   "execution_count": 32,
   "metadata": {},
   "outputs": [
    {
     "data": {
      "text/html": [
       "<div>\n",
       "<style>\n",
       "    .dataframe thead tr:only-child th {\n",
       "        text-align: right;\n",
       "    }\n",
       "\n",
       "    .dataframe thead th {\n",
       "        text-align: left;\n",
       "    }\n",
       "\n",
       "    .dataframe tbody tr th {\n",
       "        vertical-align: top;\n",
       "    }\n",
       "</style>\n",
       "<table border=\"1\" class=\"dataframe\">\n",
       "  <thead>\n",
       "    <tr style=\"text-align: right;\">\n",
       "      <th></th>\n",
       "      <th>latitude</th>\n",
       "      <th>longitude</th>\n",
       "      <th>stars</th>\n",
       "      <th>review_count</th>\n",
       "      <th>index_no</th>\n",
       "    </tr>\n",
       "  </thead>\n",
       "  <tbody>\n",
       "    <tr>\n",
       "      <th>count</th>\n",
       "      <td>203.000000</td>\n",
       "      <td>203.000000</td>\n",
       "      <td>203.000000</td>\n",
       "      <td>203.000000</td>\n",
       "      <td>203.000000</td>\n",
       "    </tr>\n",
       "    <tr>\n",
       "      <th>mean</th>\n",
       "      <td>43.668998</td>\n",
       "      <td>-79.388099</td>\n",
       "      <td>3.391626</td>\n",
       "      <td>63.502463</td>\n",
       "      <td>186.078818</td>\n",
       "    </tr>\n",
       "    <tr>\n",
       "      <th>std</th>\n",
       "      <td>0.032415</td>\n",
       "      <td>0.057959</td>\n",
       "      <td>0.580695</td>\n",
       "      <td>101.331891</td>\n",
       "      <td>90.279454</td>\n",
       "    </tr>\n",
       "    <tr>\n",
       "      <th>min</th>\n",
       "      <td>43.599790</td>\n",
       "      <td>-79.603882</td>\n",
       "      <td>2.000000</td>\n",
       "      <td>3.000000</td>\n",
       "      <td>0.000000</td>\n",
       "    </tr>\n",
       "    <tr>\n",
       "      <th>25%</th>\n",
       "      <td>43.650502</td>\n",
       "      <td>-79.414682</td>\n",
       "      <td>3.000000</td>\n",
       "      <td>16.500000</td>\n",
       "      <td>112.500000</td>\n",
       "    </tr>\n",
       "    <tr>\n",
       "      <th>50%</th>\n",
       "      <td>43.660418</td>\n",
       "      <td>-79.390206</td>\n",
       "      <td>3.500000</td>\n",
       "      <td>33.000000</td>\n",
       "      <td>187.000000</td>\n",
       "    </tr>\n",
       "    <tr>\n",
       "      <th>75%</th>\n",
       "      <td>43.673362</td>\n",
       "      <td>-79.363302</td>\n",
       "      <td>4.000000</td>\n",
       "      <td>71.500000</td>\n",
       "      <td>269.500000</td>\n",
       "    </tr>\n",
       "    <tr>\n",
       "      <th>max</th>\n",
       "      <td>43.796148</td>\n",
       "      <td>-79.170583</td>\n",
       "      <td>4.500000</td>\n",
       "      <td>1087.000000</td>\n",
       "      <td>347.000000</td>\n",
       "    </tr>\n",
       "  </tbody>\n",
       "</table>\n",
       "</div>"
      ],
      "text/plain": [
       "         latitude   longitude       stars  review_count    index_no\n",
       "count  203.000000  203.000000  203.000000    203.000000  203.000000\n",
       "mean    43.668998  -79.388099    3.391626     63.502463  186.078818\n",
       "std      0.032415    0.057959    0.580695    101.331891   90.279454\n",
       "min     43.599790  -79.603882    2.000000      3.000000    0.000000\n",
       "25%     43.650502  -79.414682    3.000000     16.500000  112.500000\n",
       "50%     43.660418  -79.390206    3.500000     33.000000  187.000000\n",
       "75%     43.673362  -79.363302    4.000000     71.500000  269.500000\n",
       "max     43.796148  -79.170583    4.500000   1087.000000  347.000000"
      ]
     },
     "execution_count": 32,
     "metadata": {},
     "output_type": "execute_result"
    }
   ],
   "source": [
    "pubs_df.describe()"
   ]
  },
  {
   "cell_type": "code",
   "execution_count": 33,
   "metadata": {},
   "outputs": [],
   "source": [
    "final_businesses_df = pd.DataFrame()\n",
    "\n",
    "def haversine(x):\n",
    "    \n",
    "    global not_restaurant_df\n",
    "    global final_businesses_df\n",
    "    \n",
    "    \n",
    "    # Initialize empty DataFrame\n",
    "    df = pd.DataFrame()\n",
    "    measure_1 = pd.DataFrame()\n",
    "    \n",
    "    # Calculate the latitudes, longitudes:\n",
    "    df['LAT_rad'], df['LON_rad'] = np.radians(not_restaurant_df['latitude']), np.radians(not_restaurant_df['longitude'])\n",
    "    df['dLON'] = df['LON_rad'] - math.radians(x['longitude'])\n",
    "    df['dLAT'] = df['LAT_rad'] - math.radians(x['latitude'])\n",
    "\n",
    "    # Use Haversine's formula\n",
    "    not_restaurant_df['distance'] = 6367 * 2 * np.arcsin(np.sqrt(np.sin(df['dLAT']/2)**2 + math.cos(math.radians(37.2175900)) * np.cos(df['LAT_rad']) * np.sin(df['dLON']/2)**2))\n",
    "   # print(\"4. pubs gets a new distace col\", pubs_df)\n",
    "    \n",
    "    # Only consider pubs within a distance of 1 km of the chosen pub\n",
    "    measure_1 = not_restaurant_df\n",
    "   # print(\"5. Another new dataframe is init, it equals pubs_df\", measure_1)\n",
    "    measure_1 = measure_1.loc[(not_restaurant_df['distance'] > 0.0) & (not_restaurant_df['distance'] <=1.0)]\n",
    "    #print(\"Measure_1 is now\", measure_1)\n",
    "    \n",
    "    # Calculate the mean rating of the surrounding pubs\n",
    "    mean_rating = measure_1['stars'].mean()\n",
    "    #print(\"mean biz rating is calc\", mean_rating)\n",
    "    density = (measure_1['stars'].count())/ (2*math.pi*1.0*1.0)\n",
    "\n",
    "    final_businesses_df = final_businesses_df.append({'name': x['name'].item(), 'rating': x['stars'].item(), 'mean_business_rating': mean_rating, \"density\": density}, ignore_index=True)\n",
    "    return final_businesses_df\n",
    "\n",
    "\n",
    "for line in pubs_df['index_no']:\n",
    "    x = pubs_df.loc[pubs_df['index_no'] == line]\n",
    "    haversine(x)\n"
   ]
  },
  {
   "cell_type": "markdown",
   "metadata": {},
   "source": [
    "# Relationship Between Pub Rating and Non Pub Business Density"
   ]
  },
  {
   "cell_type": "markdown",
   "metadata": {},
   "source": [
    "We are interested in looking at the relationship between pub ratings and the density of non pub businesses around each pub. To further divide our dataset, we say that any area with less than or equal to 30 businesses are low density areas while anything above 30 businesses are high density areas."
   ]
  },
  {
   "cell_type": "code",
   "execution_count": null,
   "metadata": {},
   "outputs": [],
   "source": [
    "## Initialize a DF to store pubs that have a density of less than or equal to\n",
    "## 30 non-pub and non-restaurant businesses around them\n",
    "low_density_df = pd.DataFrame()\n",
    "low_density_df = final_businesses_df.loc[final_businesses_df['density'] <= 30]"
   ]
  },
  {
   "cell_type": "code",
   "execution_count": 38,
   "metadata": {},
   "outputs": [],
   "source": [
    "## Initialize a DF to store pubs that have a density of more than\n",
    "## 30 non-pub and non-restaurant businesses around them\n",
    "high_density_df = pd.DataFrame()\n",
    "high_density_df = final_businesses_df.loc[final_businesses_df['density'] > 30]"
   ]
  },
  {
   "cell_type": "markdown",
   "metadata": {},
   "source": [
    "Now we can generate a scatterplot with density of non-pub businesses on the x axis and the ratings of pubs on the Y axis to see if any relationship exists."
   ]
  },
  {
   "cell_type": "code",
   "execution_count": 40,
   "metadata": {},
   "outputs": [
    {
     "data": {
      "text/plain": [
       "<matplotlib.text.Text at 0x10894ca58>"
      ]
     },
     "execution_count": 40,
     "metadata": {},
     "output_type": "execute_result"
    },
    {
     "data": {
      "image/png": "[encoded data removed]",
      "text/plain": [
       "<matplotlib.figure.Figure at 0x1084e9748>"
      ]
     },
     "metadata": {},
     "output_type": "display_data"
    }
   ],
   "source": [
    "#Set style\n",
    "sns.set_context(\"notebook\", font_scale=1.5)\n",
    "sns.set_style(\"ticks\")\n",
    "\n",
    "# Plot Data\n",
    "g = sns.lmplot(x=\"density\", y=\"rating\", size=8, data=final_businesses_df,aspect=2.0)\n",
    "\n",
    "# Plot Labels\n",
    "plt.title(\"Relationship between Pub Rating and Non-Pub Business Density\")\n",
    "plt.xlabel('Density of Non-Pub Businesses Around Pub')\n",
    "plt.ylabel('Rating of Pub')"
   ]
  },
  {
   "cell_type": "markdown",
   "metadata": {},
   "source": [
    "It seems from the above graph that there is no definite relationship between ratings of pubs and density of businesses. Infact. there seem to be more higher and lower rating pubs in low density areas as compared to high density areas in Toronto."
   ]
  },
  {
   "cell_type": "code",
   "execution_count": null,
   "metadata": {},
   "outputs": [],
   "source": []
  },
  {
   "cell_type": "code",
   "execution_count": null,
   "metadata": {},
   "outputs": [],
   "source": []
  },
  {
   "cell_type": "code",
   "execution_count": null,
   "metadata": {},
   "outputs": [],
   "source": []
  },
  {
   "cell_type": "code",
   "execution_count": null,
   "metadata": {},
   "outputs": [],
   "source": []
  },
  {
   "cell_type": "code",
   "execution_count": null,
   "metadata": {},
   "outputs": [],
   "source": []
  },
  {
   "cell_type": "code",
   "execution_count": null,
   "metadata": {},
   "outputs": [],
   "source": []
  },
  {
   "cell_type": "code",
   "execution_count": null,
   "metadata": {},
   "outputs": [],
   "source": []
  },
  {
   "cell_type": "code",
   "execution_count": null,
   "metadata": {},
   "outputs": [],
   "source": []
  },
  {
   "cell_type": "code",
   "execution_count": null,
   "metadata": {},
   "outputs": [],
   "source": []
  },
  {
   "cell_type": "code",
   "execution_count": null,
   "metadata": {},
   "outputs": [],
   "source": []
  },
  {
   "cell_type": "code",
   "execution_count": null,
   "metadata": {},
   "outputs": [],
   "source": []
  },
  {
   "cell_type": "code",
   "execution_count": null,
   "metadata": {},
   "outputs": [],
   "source": []
  },
  {
   "cell_type": "code",
   "execution_count": null,
   "metadata": {},
   "outputs": [],
   "source": []
  },
  {
   "cell_type": "code",
   "execution_count": null,
   "metadata": {},
   "outputs": [],
   "source": []
  },
  {
   "cell_type": "code",
   "execution_count": null,
   "metadata": {},
   "outputs": [],
   "source": []
  },
  {
   "cell_type": "code",
   "execution_count": null,
   "metadata": {},
   "outputs": [],
   "source": []
  },
  {
   "cell_type": "code",
   "execution_count": null,
   "metadata": {},
   "outputs": [],
   "source": []
  },
  {
   "cell_type": "code",
   "execution_count": null,
   "metadata": {},
   "outputs": [],
   "source": []
  },
  {
   "cell_type": "code",
   "execution_count": null,
   "metadata": {},
   "outputs": [],
   "source": []
  },
  {
   "cell_type": "code",
   "execution_count": null,
   "metadata": {},
   "outputs": [],
   "source": []
  },
  {
   "cell_type": "code",
   "execution_count": null,
   "metadata": {},
   "outputs": [],
   "source": []
  },
  {
   "cell_type": "code",
   "execution_count": null,
   "metadata": {},
   "outputs": [],
   "source": []
  },
  {
   "cell_type": "code",
   "execution_count": null,
   "metadata": {},
   "outputs": [],
   "source": []
  },
  {
   "cell_type": "code",
   "execution_count": null,
   "metadata": {},
   "outputs": [],
   "source": []
  },
  {
   "cell_type": "code",
   "execution_count": null,
   "metadata": {},
   "outputs": [],
   "source": []
  },
  {
   "cell_type": "code",
   "execution_count": null,
   "metadata": {},
   "outputs": [],
   "source": []
  },
  {
   "cell_type": "code",
   "execution_count": null,
   "metadata": {},
   "outputs": [],
   "source": []
  },
  {
   "cell_type": "code",
   "execution_count": null,
   "metadata": {},
   "outputs": [],
   "source": []
  },
  {
   "cell_type": "code",
   "execution_count": null,
   "metadata": {},
   "outputs": [],
   "source": []
  },
  {
   "cell_type": "code",
   "execution_count": null,
   "metadata": {},
   "outputs": [],
   "source": []
  },
  {
   "cell_type": "code",
   "execution_count": null,
   "metadata": {},
   "outputs": [],
   "source": []
  },
  {
   "cell_type": "code",
   "execution_count": null,
   "metadata": {},
   "outputs": [],
   "source": []
  },
  {
   "cell_type": "code",
   "execution_count": null,
   "metadata": {},
   "outputs": [],
   "source": []
  },
  {
   "cell_type": "code",
   "execution_count": null,
   "metadata": {},
   "outputs": [],
   "source": []
  }
 ],
 "metadata": {
  "kernelspec": {
   "display_name": "Python 3",
   "language": "python",
   "name": "python3"
  },
  "language_info": {
   "codemirror_mode": {
    "name": "ipython",
    "version": 3
   },
   "file_extension": ".py",
   "mimetype": "text/x-python",
   "name": "python",
   "nbconvert_exporter": "python",
   "pygments_lexer": "ipython3",
   "version": "3.6.3"
  }
 },
 "nbformat": 4,
 "nbformat_minor": 2
}
