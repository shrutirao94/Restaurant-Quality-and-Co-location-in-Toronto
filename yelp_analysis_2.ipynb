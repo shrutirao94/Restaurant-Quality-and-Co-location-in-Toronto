{
 "cells": [
  {
   "cell_type": "markdown",
   "metadata": {},
   "source": [
    "# Yelp Dataset Analysis - Pub Ratings"
   ]
  },
  {
   "cell_type": "code",
   "execution_count": 33,
   "metadata": {},
   "outputs": [],
   "source": [
    "import csv\n",
    "import pandas as pd\n",
    "import numpy as np\n",
    "import pandas as pd\n",
    "import seaborn as sns\n",
    "import operator #need this for sorting dicts later\n",
    "import matplotlib.cm as cm #for colormapping later\n",
    "from matplotlib.colors import LogNorm\n",
    "import matplotlib as mpl\n",
    "import matplotlib.pyplot as plt\n",
    "import math\n",
    "%matplotlib inline"
   ]
  },
  {
   "cell_type": "markdown",
   "metadata": {},
   "source": [
    "Import custom restauramt and not_restaurant csv files as dataframes"
   ]
  },
  {
   "cell_type": "code",
   "execution_count": 51,
   "metadata": {},
   "outputs": [
    {
     "data": {
      "text/html": [
       "<div>\n",
       "<style>\n",
       "    .dataframe thead tr:only-child th {\n",
       "        text-align: right;\n",
       "    }\n",
       "\n",
       "    .dataframe thead th {\n",
       "        text-align: left;\n",
       "    }\n",
       "\n",
       "    .dataframe tbody tr th {\n",
       "        vertical-align: top;\n",
       "    }\n",
       "</style>\n",
       "<table border=\"1\" class=\"dataframe\">\n",
       "  <thead>\n",
       "    <tr style=\"text-align: right;\">\n",
       "      <th></th>\n",
       "      <th>name</th>\n",
       "      <th>postal_code</th>\n",
       "      <th>latitude</th>\n",
       "      <th>longitude</th>\n",
       "      <th>neighborhood</th>\n",
       "      <th>categories</th>\n",
       "      <th>stars</th>\n",
       "      <th>review_count</th>\n",
       "      <th>index_no</th>\n",
       "    </tr>\n",
       "  </thead>\n",
       "  <tbody>\n",
       "    <tr>\n",
       "      <th>0</th>\n",
       "      <td>The Tea Emporium</td>\n",
       "      <td>M4K 1N7</td>\n",
       "      <td>43.677126</td>\n",
       "      <td>-79.353285</td>\n",
       "      <td>Riverdale</td>\n",
       "      <td>[u'Food', u'Coffee &amp; Tea']</td>\n",
       "      <td>4.5</td>\n",
       "      <td>7</td>\n",
       "      <td>0</td>\n",
       "    </tr>\n",
       "    <tr>\n",
       "      <th>1</th>\n",
       "      <td>Hart House Theatre</td>\n",
       "      <td>M5S 3H3</td>\n",
       "      <td>43.663669</td>\n",
       "      <td>-79.394687</td>\n",
       "      <td>University of Toronto</td>\n",
       "      <td>[u'Arts &amp; Entertainment', u'Performing Arts']</td>\n",
       "      <td>4.0</td>\n",
       "      <td>8</td>\n",
       "      <td>1</td>\n",
       "    </tr>\n",
       "    <tr>\n",
       "      <th>2</th>\n",
       "      <td>McCarthy's Irish Pub</td>\n",
       "      <td>M4L 2B5</td>\n",
       "      <td>43.678049</td>\n",
       "      <td>-79.314774</td>\n",
       "      <td>Upper Beach</td>\n",
       "      <td>[u'Pubs', u'Restaurants', u'Bars', u'Irish', u...</td>\n",
       "      <td>4.0</td>\n",
       "      <td>5</td>\n",
       "      <td>2</td>\n",
       "    </tr>\n",
       "    <tr>\n",
       "      <th>3</th>\n",
       "      <td>Paris Bakery &amp; Pastry</td>\n",
       "      <td>M6H 3Z5</td>\n",
       "      <td>43.662401</td>\n",
       "      <td>-79.444706</td>\n",
       "      <td>Wallace Emerson</td>\n",
       "      <td>[u'Bakeries', u'Food']</td>\n",
       "      <td>3.0</td>\n",
       "      <td>16</td>\n",
       "      <td>3</td>\n",
       "    </tr>\n",
       "    <tr>\n",
       "      <th>4</th>\n",
       "      <td>Oishi Sushi</td>\n",
       "      <td>M3J 2G5</td>\n",
       "      <td>43.763510</td>\n",
       "      <td>-79.490750</td>\n",
       "      <td>NaN</td>\n",
       "      <td>[u'Asian Fusion', u'Restaurants', u'Sushi Bars']</td>\n",
       "      <td>2.0</td>\n",
       "      <td>27</td>\n",
       "      <td>4</td>\n",
       "    </tr>\n",
       "  </tbody>\n",
       "</table>\n",
       "</div>"
      ],
      "text/plain": [
       "                    name postal_code   latitude  longitude  \\\n",
       "0       The Tea Emporium     M4K 1N7  43.677126 -79.353285   \n",
       "1     Hart House Theatre     M5S 3H3  43.663669 -79.394687   \n",
       "2   McCarthy's Irish Pub     M4L 2B5  43.678049 -79.314774   \n",
       "3  Paris Bakery & Pastry     M6H 3Z5  43.662401 -79.444706   \n",
       "4            Oishi Sushi     M3J 2G5  43.763510 -79.490750   \n",
       "\n",
       "            neighborhood                                         categories  \\\n",
       "0              Riverdale                         [u'Food', u'Coffee & Tea']   \n",
       "1  University of Toronto      [u'Arts & Entertainment', u'Performing Arts']   \n",
       "2            Upper Beach  [u'Pubs', u'Restaurants', u'Bars', u'Irish', u...   \n",
       "3        Wallace Emerson                             [u'Bakeries', u'Food']   \n",
       "4                    NaN   [u'Asian Fusion', u'Restaurants', u'Sushi Bars']   \n",
       "\n",
       "   stars  review_count  index_no  \n",
       "0    4.5             7         0  \n",
       "1    4.0             8         1  \n",
       "2    4.0             5         2  \n",
       "3    3.0            16         3  \n",
       "4    2.0            27         4  "
      ]
     },
     "execution_count": 51,
     "metadata": {},
     "output_type": "execute_result"
    }
   ],
   "source": [
    "not_restaurant_df = pd.read_csv('not_restaurant.csv')\n",
    "not_restaurant_df = not_restaurant_df.drop(['Unnamed: 0','city','distance'], 1)\n",
    "not_restaurant_df = not_restaurant_df.drop_duplicates(subset=['name','postal_code','latitude','longitude','neighborhood'], keep=False)\n",
    "\n",
    "pubs_df = pd.read_csv('pubs.csv')\n",
    "pubs_df = pubs_df.drop(['city','Unnamed: 0'], 1)\n",
    "pubs_df = pubs_df.drop_duplicates(subset=['name','postal_code','latitude','longitude','neighborhood'], keep=False)\n",
    "pubs_df['index_no'] = pubs_df.index\n",
    "pubs_df.head()\n",
    "\n",
    "not_pubs_df = pd.read_csv('not_pubs.csv')\n",
    "not_pubs_df = not_pubs_df.drop(['city','Unnamed: 0'], 1)\n",
    "not_pubs_df = not_pubs_df.drop_duplicates(subset=['name','postal_code','latitude','longitude','neighborhood'], keep=False)\n",
    "not_pubs_df['index_no'] = not_pubs_df.index\n",
    "not_pubs_df.head()\n",
    "\n",
    "toronto_businesses_df = pd.read_csv('toronto_businesses.csv')\n",
    "toronto_businesses_df = toronto_businesses_df.drop(['city','Unnamed: 0'], 1)\n",
    "toronto_businesses_df = toronto_businesses_df.drop_duplicates(subset=['name','postal_code','latitude','longitude','neighborhood'], keep=False)\n",
    "toronto_businesses_df['index_no'] = toronto_businesses_df.index\n",
    "toronto_businesses_df.head()"
   ]
  },
  {
   "cell_type": "code",
   "execution_count": 35,
   "metadata": {},
   "outputs": [
    {
     "data": {
      "text/html": [
       "<div>\n",
       "<style>\n",
       "    .dataframe thead tr:only-child th {\n",
       "        text-align: right;\n",
       "    }\n",
       "\n",
       "    .dataframe thead th {\n",
       "        text-align: left;\n",
       "    }\n",
       "\n",
       "    .dataframe tbody tr th {\n",
       "        vertical-align: top;\n",
       "    }\n",
       "</style>\n",
       "<table border=\"1\" class=\"dataframe\">\n",
       "  <thead>\n",
       "    <tr style=\"text-align: right;\">\n",
       "      <th></th>\n",
       "      <th>latitude</th>\n",
       "      <th>longitude</th>\n",
       "      <th>stars</th>\n",
       "      <th>review_count</th>\n",
       "    </tr>\n",
       "  </thead>\n",
       "  <tbody>\n",
       "    <tr>\n",
       "      <th>count</th>\n",
       "      <td>3738.000000</td>\n",
       "      <td>3738.000000</td>\n",
       "      <td>3738.000000</td>\n",
       "      <td>3738.000000</td>\n",
       "    </tr>\n",
       "    <tr>\n",
       "      <th>mean</th>\n",
       "      <td>43.659746</td>\n",
       "      <td>-79.390947</td>\n",
       "      <td>3.702381</td>\n",
       "      <td>12.928571</td>\n",
       "    </tr>\n",
       "    <tr>\n",
       "      <th>std</th>\n",
       "      <td>0.863939</td>\n",
       "      <td>0.454143</td>\n",
       "      <td>0.979130</td>\n",
       "      <td>24.914754</td>\n",
       "    </tr>\n",
       "    <tr>\n",
       "      <th>min</th>\n",
       "      <td>-9.095137</td>\n",
       "      <td>-79.653939</td>\n",
       "      <td>1.000000</td>\n",
       "      <td>3.000000</td>\n",
       "    </tr>\n",
       "    <tr>\n",
       "      <th>25%</th>\n",
       "      <td>43.649911</td>\n",
       "      <td>-79.419545</td>\n",
       "      <td>3.000000</td>\n",
       "      <td>4.000000</td>\n",
       "    </tr>\n",
       "    <tr>\n",
       "      <th>50%</th>\n",
       "      <td>43.662539</td>\n",
       "      <td>-79.395460</td>\n",
       "      <td>4.000000</td>\n",
       "      <td>6.000000</td>\n",
       "    </tr>\n",
       "    <tr>\n",
       "      <th>75%</th>\n",
       "      <td>43.680457</td>\n",
       "      <td>-79.378843</td>\n",
       "      <td>4.500000</td>\n",
       "      <td>13.000000</td>\n",
       "    </tr>\n",
       "    <tr>\n",
       "      <th>max</th>\n",
       "      <td>43.844762</td>\n",
       "      <td>-51.833829</td>\n",
       "      <td>5.000000</td>\n",
       "      <td>530.000000</td>\n",
       "    </tr>\n",
       "  </tbody>\n",
       "</table>\n",
       "</div>"
      ],
      "text/plain": [
       "          latitude    longitude        stars  review_count\n",
       "count  3738.000000  3738.000000  3738.000000   3738.000000\n",
       "mean     43.659746   -79.390947     3.702381     12.928571\n",
       "std       0.863939     0.454143     0.979130     24.914754\n",
       "min      -9.095137   -79.653939     1.000000      3.000000\n",
       "25%      43.649911   -79.419545     3.000000      4.000000\n",
       "50%      43.662539   -79.395460     4.000000      6.000000\n",
       "75%      43.680457   -79.378843     4.500000     13.000000\n",
       "max      43.844762   -51.833829     5.000000    530.000000"
      ]
     },
     "execution_count": 35,
     "metadata": {},
     "output_type": "execute_result"
    }
   ],
   "source": [
    "not_restaurant_df.describe()"
   ]
  },
  {
   "cell_type": "code",
   "execution_count": 36,
   "metadata": {},
   "outputs": [
    {
     "data": {
      "text/html": [
       "<div>\n",
       "<style>\n",
       "    .dataframe thead tr:only-child th {\n",
       "        text-align: right;\n",
       "    }\n",
       "\n",
       "    .dataframe thead th {\n",
       "        text-align: left;\n",
       "    }\n",
       "\n",
       "    .dataframe tbody tr th {\n",
       "        vertical-align: top;\n",
       "    }\n",
       "</style>\n",
       "<table border=\"1\" class=\"dataframe\">\n",
       "  <thead>\n",
       "    <tr style=\"text-align: right;\">\n",
       "      <th></th>\n",
       "      <th>latitude</th>\n",
       "      <th>longitude</th>\n",
       "      <th>stars</th>\n",
       "      <th>review_count</th>\n",
       "      <th>index_no</th>\n",
       "    </tr>\n",
       "  </thead>\n",
       "  <tbody>\n",
       "    <tr>\n",
       "      <th>count</th>\n",
       "      <td>203.000000</td>\n",
       "      <td>203.000000</td>\n",
       "      <td>203.000000</td>\n",
       "      <td>203.000000</td>\n",
       "      <td>203.000000</td>\n",
       "    </tr>\n",
       "    <tr>\n",
       "      <th>mean</th>\n",
       "      <td>43.668998</td>\n",
       "      <td>-79.388099</td>\n",
       "      <td>3.391626</td>\n",
       "      <td>63.502463</td>\n",
       "      <td>186.078818</td>\n",
       "    </tr>\n",
       "    <tr>\n",
       "      <th>std</th>\n",
       "      <td>0.032415</td>\n",
       "      <td>0.057959</td>\n",
       "      <td>0.580695</td>\n",
       "      <td>101.331891</td>\n",
       "      <td>90.279454</td>\n",
       "    </tr>\n",
       "    <tr>\n",
       "      <th>min</th>\n",
       "      <td>43.599790</td>\n",
       "      <td>-79.603882</td>\n",
       "      <td>2.000000</td>\n",
       "      <td>3.000000</td>\n",
       "      <td>0.000000</td>\n",
       "    </tr>\n",
       "    <tr>\n",
       "      <th>25%</th>\n",
       "      <td>43.650502</td>\n",
       "      <td>-79.414682</td>\n",
       "      <td>3.000000</td>\n",
       "      <td>16.500000</td>\n",
       "      <td>112.500000</td>\n",
       "    </tr>\n",
       "    <tr>\n",
       "      <th>50%</th>\n",
       "      <td>43.660418</td>\n",
       "      <td>-79.390206</td>\n",
       "      <td>3.500000</td>\n",
       "      <td>33.000000</td>\n",
       "      <td>187.000000</td>\n",
       "    </tr>\n",
       "    <tr>\n",
       "      <th>75%</th>\n",
       "      <td>43.673362</td>\n",
       "      <td>-79.363302</td>\n",
       "      <td>4.000000</td>\n",
       "      <td>71.500000</td>\n",
       "      <td>269.500000</td>\n",
       "    </tr>\n",
       "    <tr>\n",
       "      <th>max</th>\n",
       "      <td>43.796148</td>\n",
       "      <td>-79.170583</td>\n",
       "      <td>4.500000</td>\n",
       "      <td>1087.000000</td>\n",
       "      <td>347.000000</td>\n",
       "    </tr>\n",
       "  </tbody>\n",
       "</table>\n",
       "</div>"
      ],
      "text/plain": [
       "         latitude   longitude       stars  review_count    index_no\n",
       "count  203.000000  203.000000  203.000000    203.000000  203.000000\n",
       "mean    43.668998  -79.388099    3.391626     63.502463  186.078818\n",
       "std      0.032415    0.057959    0.580695    101.331891   90.279454\n",
       "min     43.599790  -79.603882    2.000000      3.000000    0.000000\n",
       "25%     43.650502  -79.414682    3.000000     16.500000  112.500000\n",
       "50%     43.660418  -79.390206    3.500000     33.000000  187.000000\n",
       "75%     43.673362  -79.363302    4.000000     71.500000  269.500000\n",
       "max     43.796148  -79.170583    4.500000   1087.000000  347.000000"
      ]
     },
     "execution_count": 36,
     "metadata": {},
     "output_type": "execute_result"
    }
   ],
   "source": [
    "pubs_df.describe()"
   ]
  },
  {
   "cell_type": "code",
   "execution_count": 37,
   "metadata": {},
   "outputs": [],
   "source": [
    "final_businesses_df = pd.DataFrame()\n",
    "\n",
    "def haversine(x):\n",
    "    \n",
    "    global not_restaurant_df\n",
    "    global final_businesses_df\n",
    "    \n",
    "    \n",
    "    # Initialize empty DataFrame\n",
    "    df = pd.DataFrame()\n",
    "    measure_1 = pd.DataFrame()\n",
    "    \n",
    "    # Calculate the latitudes, longitudes:\n",
    "    df['LAT_rad'], df['LON_rad'] = np.radians(not_restaurant_df['latitude']), np.radians(not_restaurant_df['longitude'])\n",
    "    df['dLON'] = df['LON_rad'] - math.radians(x['longitude'])\n",
    "    df['dLAT'] = df['LAT_rad'] - math.radians(x['latitude'])\n",
    "\n",
    "    # Use Haversine's formula\n",
    "    not_restaurant_df['distance'] = 6367 * 2 * np.arcsin(np.sqrt(np.sin(df['dLAT']/2)**2 + math.cos(math.radians(37.2175900)) * np.cos(df['LAT_rad']) * np.sin(df['dLON']/2)**2))\n",
    "   # print(\"4. pubs gets a new distace col\", pubs_df)\n",
    "    \n",
    "    # Only consider pubs within a distance of 1 km of the chosen pub\n",
    "    measure_1 = not_restaurant_df\n",
    "   # print(\"5. Another new dataframe is init, it equals pubs_df\", measure_1)\n",
    "    measure_1 = measure_1.loc[(not_restaurant_df['distance'] > 0.0) & (not_restaurant_df['distance'] <=1.0)]\n",
    "    #print(\"Measure_1 is now\", measure_1)\n",
    "    \n",
    "    # Calculate the mean rating of the surrounding pubs\n",
    "    mean_rating = measure_1['stars'].mean()\n",
    "    #print(\"mean biz rating is calc\", mean_rating)\n",
    "    density = (measure_1['stars'].count())/ (2*math.pi*1.0*1.0)\n",
    "\n",
    "    final_businesses_df = final_businesses_df.append({'name': x['name'].item(), 'rating': x['stars'].item(), 'mean_business_rating': mean_rating, \"density\": density}, ignore_index=True)\n",
    "    return final_businesses_df\n",
    "\n",
    "\n",
    "for line in pubs_df['index_no']:\n",
    "    x = pubs_df.loc[pubs_df['index_no'] == line]\n",
    "    haversine(x)\n"
   ]
  },
  {
   "cell_type": "markdown",
   "metadata": {},
   "source": [
    "## Relationship Between Pub Rating and Non Pub Business Density"
   ]
  },
  {
   "cell_type": "markdown",
   "metadata": {},
   "source": [
    "We are interested in looking at the relationship between pub ratings and the density of non pub businesses around each pub. To further divide our dataset, we say that any area with less than or equal to 30 businesses are low density areas while anything above 30 businesses are high density areas."
   ]
  },
  {
   "cell_type": "code",
   "execution_count": 38,
   "metadata": {},
   "outputs": [],
   "source": [
    "## Initialize a DF to store pubs that have a density of less than or equal to\n",
    "## 30 non-pub and non-restaurant businesses around them\n",
    "low_density_df = pd.DataFrame()\n",
    "low_density_df = final_businesses_df.loc[final_businesses_df['density'] <= 30]"
   ]
  },
  {
   "cell_type": "code",
   "execution_count": 39,
   "metadata": {},
   "outputs": [],
   "source": [
    "## Initialize a DF to store pubs that have a density of more than\n",
    "## 30 non-pub and non-restaurant businesses around them\n",
    "high_density_df = pd.DataFrame()\n",
    "high_density_df = final_businesses_df.loc[final_businesses_df['density'] > 30]"
   ]
  },
  {
   "cell_type": "markdown",
   "metadata": {},
   "source": [
    "Now we can generate a scatterplot with density of non-pub businesses on the x axis and the ratings of pubs on the Y axis to see if any relationship exists."
   ]
  },
  {
   "cell_type": "code",
   "execution_count": 40,
   "metadata": {},
   "outputs": [
    {
     "data": {
      "text/plain": [
       "<matplotlib.text.Text at 0x1142e7710>"
      ]
     },
     "execution_count": 40,
     "metadata": {},
     "output_type": "execute_result"
    },
    {
     "data": {
      "image/png": "[encoded data removed]",
      "text/plain": [
       "<matplotlib.figure.Figure at 0x1141ee828>"
      ]
     },
     "metadata": {},
     "output_type": "display_data"
    }
   ],
   "source": [
    "#Set style\n",
    "sns.set_context(\"notebook\", font_scale=1.5)\n",
    "sns.set_style(\"ticks\")\n",
    "\n",
    "# Plot Data\n",
    "g = sns.lmplot(x=\"density\", y=\"rating\", size=8, data=final_businesses_df,aspect=2.0)\n",
    "\n",
    "# Plot Labels\n",
    "plt.title(\"Relationship between Pub Rating and Non-Pub Business Density\")\n",
    "plt.xlabel('Density of Non-Pub Businesses Around Pub')\n",
    "plt.ylabel('Rating of Pub')"
   ]
  },
  {
   "cell_type": "markdown",
   "metadata": {},
   "source": [
    "It seems from the above graph that there is no definite relationship between ratings of pubs and density of businesses. Infact. there seem to be more higher and lower rating pubs in low density areas as compared to high density areas in Toronto."
   ]
  },
  {
   "cell_type": "markdown",
   "metadata": {},
   "source": [
    "## Rating of a Pub Based on the Ratings of Other Pubs Around It"
   ]
  },
  {
   "cell_type": "code",
   "execution_count": 41,
   "metadata": {},
   "outputs": [],
   "source": [
    "final_pubs_df = pd.DataFrame()\n",
    "\n",
    "def haversine(x):\n",
    "    \n",
    "    global pubs_df\n",
    "    global final_pubs_df\n",
    "    \n",
    "    # Initialize empty DataFrame\n",
    "    df = pd.DataFrame()\n",
    "    measure_1 = pd.DataFrame()\n",
    "        \n",
    "    # Calculate the latitudes, longitudes:\n",
    "    df['LAT_rad'], df['LON_rad'] = np.radians(pubs_df['latitude']), np.radians(pubs_df['longitude'])\n",
    "    df['dLON'] = df['LON_rad'] - math.radians(x['longitude'])\n",
    "    df['dLAT'] = df['LAT_rad'] - math.radians(x['latitude'])\n",
    "\n",
    "    # Use Haversine's formula\n",
    "    pubs_df['distance'] = 6367 * 2 * np.arcsin(np.sqrt(np.sin(df['dLAT']/2)**2 + math.cos(math.radians(37.2175900)) * np.cos(df['LAT_rad']) * np.sin(df['dLON']/2)**2))\n",
    "   \n",
    "    # Only consider pubs within a distance of 1 km of the chosen pub\n",
    "    measure_1 = pubs_df\n",
    "    measure_1 = measure_1.loc[(pubs_df['distance'] > 0.0) & (pubs_df['distance'] <=1.0)]\n",
    "    \n",
    "    # Calculate the mean rating of the surrounding pubs\n",
    "    mean_rating = measure_1['stars'].mean()\n",
    "    density = (measure_1['stars'].count())/ (2*math.pi*1.0*1.0)\n",
    "\n",
    "    final_pubs_df = final_pubs_df.append({'name': x['name'].item(), 'rating': x['stars'].item(), 'mean_business_rating': mean_rating, \"density\": density}, ignore_index=True)\n",
    "    return final_pubs_df\n",
    "\n",
    "\n",
    "for line in pubs_df['index_no']:\n",
    "    x = pubs_df.loc[pubs_df['index_no'] == line]\n",
    "    haversine(x)\n",
    "\n",
    "\n"
   ]
  },
  {
   "cell_type": "code",
   "execution_count": 42,
   "metadata": {},
   "outputs": [],
   "source": [
    "final_pubs_df = final_pubs_df.fillna(value=0)"
   ]
  },
  {
   "cell_type": "code",
   "execution_count": 43,
   "metadata": {},
   "outputs": [
    {
     "data": {
      "text/plain": [
       "<matplotlib.text.Text at 0x1141e5668>"
      ]
     },
     "execution_count": 43,
     "metadata": {},
     "output_type": "execute_result"
    },
    {
     "data": {
      "image/png": "[encoded data removed]",
      "text/plain": [
       "<matplotlib.figure.Figure at 0x1141f0ef0>"
      ]
     },
     "metadata": {},
     "output_type": "display_data"
    }
   ],
   "source": [
    "#Set style\n",
    "sns.set_context(\"notebook\", font_scale=1.5)\n",
    "sns.set_style(\"ticks\")\n",
    "\n",
    "# Plot Data\n",
    "g = sns.lmplot(x=\"rating\", y=\"mean_business_rating\", size=8, data=final_pubs_df,aspect=2.0)\n",
    "\n",
    "# Plot Labels\n",
    "plt.title(\"Relationship between Pub Rating and the Ratings of the Pubs Surrounding it\")\n",
    "plt.xlabel('Rating of Pub')\n",
    "plt.ylabel('Mean Rating of Pubs Around Pub')"
   ]
  },
  {
   "cell_type": "code",
   "execution_count": 44,
   "metadata": {},
   "outputs": [
    {
     "data": {
      "text/html": [
       "<div>\n",
       "<style>\n",
       "    .dataframe thead tr:only-child th {\n",
       "        text-align: right;\n",
       "    }\n",
       "\n",
       "    .dataframe thead th {\n",
       "        text-align: left;\n",
       "    }\n",
       "\n",
       "    .dataframe tbody tr th {\n",
       "        vertical-align: top;\n",
       "    }\n",
       "</style>\n",
       "<table border=\"1\" class=\"dataframe\">\n",
       "  <thead>\n",
       "    <tr style=\"text-align: right;\">\n",
       "      <th></th>\n",
       "      <th>density</th>\n",
       "      <th>mean_business_rating</th>\n",
       "      <th>name</th>\n",
       "      <th>rating</th>\n",
       "    </tr>\n",
       "  </thead>\n",
       "  <tbody>\n",
       "    <tr>\n",
       "      <th>0</th>\n",
       "      <td>0.477465</td>\n",
       "      <td>4.166667</td>\n",
       "      <td>McCarthy's Irish Pub</td>\n",
       "      <td>4.0</td>\n",
       "    </tr>\n",
       "    <tr>\n",
       "      <th>1</th>\n",
       "      <td>0.000000</td>\n",
       "      <td>0.000000</td>\n",
       "      <td>Boardwalk Place</td>\n",
       "      <td>3.0</td>\n",
       "    </tr>\n",
       "    <tr>\n",
       "      <th>2</th>\n",
       "      <td>0.795775</td>\n",
       "      <td>3.700000</td>\n",
       "      <td>The Yellow Griffin</td>\n",
       "      <td>3.0</td>\n",
       "    </tr>\n",
       "    <tr>\n",
       "      <th>3</th>\n",
       "      <td>0.795775</td>\n",
       "      <td>3.600000</td>\n",
       "      <td>Cabin Fever</td>\n",
       "      <td>4.5</td>\n",
       "    </tr>\n",
       "    <tr>\n",
       "      <th>4</th>\n",
       "      <td>0.954930</td>\n",
       "      <td>3.666667</td>\n",
       "      <td>Bar Homestand</td>\n",
       "      <td>3.5</td>\n",
       "    </tr>\n",
       "    <tr>\n",
       "      <th>5</th>\n",
       "      <td>1.750704</td>\n",
       "      <td>3.590909</td>\n",
       "      <td>The Red Room</td>\n",
       "      <td>3.0</td>\n",
       "    </tr>\n",
       "    <tr>\n",
       "      <th>6</th>\n",
       "      <td>0.159155</td>\n",
       "      <td>4.000000</td>\n",
       "      <td>Scallywags</td>\n",
       "      <td>3.0</td>\n",
       "    </tr>\n",
       "    <tr>\n",
       "      <th>7</th>\n",
       "      <td>2.546479</td>\n",
       "      <td>3.343750</td>\n",
       "      <td>The 3 Brewers</td>\n",
       "      <td>3.0</td>\n",
       "    </tr>\n",
       "    <tr>\n",
       "      <th>8</th>\n",
       "      <td>0.159155</td>\n",
       "      <td>3.500000</td>\n",
       "      <td>McSorley's Wonderful Saloon &amp; Grill</td>\n",
       "      <td>3.5</td>\n",
       "    </tr>\n",
       "    <tr>\n",
       "      <th>9</th>\n",
       "      <td>0.954930</td>\n",
       "      <td>3.166667</td>\n",
       "      <td>Duke of Kent</td>\n",
       "      <td>3.5</td>\n",
       "    </tr>\n",
       "  </tbody>\n",
       "</table>\n",
       "</div>"
      ],
      "text/plain": [
       "    density  mean_business_rating                                 name  rating\n",
       "0  0.477465              4.166667                 McCarthy's Irish Pub     4.0\n",
       "1  0.000000              0.000000                      Boardwalk Place     3.0\n",
       "2  0.795775              3.700000                   The Yellow Griffin     3.0\n",
       "3  0.795775              3.600000                          Cabin Fever     4.5\n",
       "4  0.954930              3.666667                        Bar Homestand     3.5\n",
       "5  1.750704              3.590909                         The Red Room     3.0\n",
       "6  0.159155              4.000000                           Scallywags     3.0\n",
       "7  2.546479              3.343750                        The 3 Brewers     3.0\n",
       "8  0.159155              3.500000  McSorley's Wonderful Saloon & Grill     3.5\n",
       "9  0.954930              3.166667                         Duke of Kent     3.5"
      ]
     },
     "execution_count": 44,
     "metadata": {},
     "output_type": "execute_result"
    }
   ],
   "source": [
    "final_pubs_df.head(10)"
   ]
  },
  {
   "cell_type": "markdown",
   "metadata": {},
   "source": [
    "## Ratings of Pubs Based on Ratings of Non-Pub Businesses"
   ]
  },
  {
   "cell_type": "code",
   "execution_count": 47,
   "metadata": {},
   "outputs": [],
   "source": [
    "final_nonpubs_df = pd.DataFrame()\n",
    "\n",
    "def haversine(x):\n",
    "    \n",
    "    global not_pubs_df\n",
    "    global final_nonpubs_df\n",
    "    \n",
    "    # Initialize empty DataFrame\n",
    "    df = pd.DataFrame()\n",
    "    measure_1 = pd.DataFrame()\n",
    "        \n",
    "    # Calculate the latitudes, longitudes:\n",
    "    df['LAT_rad'], df['LON_rad'] = np.radians(not_pubs_df['latitude']), np.radians(not_pubs_df['longitude'])\n",
    "    df['dLON'] = df['LON_rad'] - math.radians(x['longitude'])\n",
    "    df['dLAT'] = df['LAT_rad'] - math.radians(x['latitude'])\n",
    "\n",
    "    # Use Haversine's formula\n",
    "    not_pubs_df['distance'] = 6367 * 2 * np.arcsin(np.sqrt(np.sin(df['dLAT']/2)**2 + math.cos(math.radians(37.2175900)) * np.cos(df['LAT_rad']) * np.sin(df['dLON']/2)**2))\n",
    "   \n",
    "    # Only consider pubs within a distance of 1 km of the chosen pub\n",
    "    measure_1 = not_pubs_df\n",
    "    measure_1 = measure_1.loc[(not_pubs_df['distance'] > 0.0) & (not_pubs_df['distance'] <=1.0)]\n",
    "    \n",
    "    # Calculate the mean rating of the surrounding pubs\n",
    "    mean_rating = measure_1['stars'].mean()\n",
    "    density = (measure_1['stars'].count())/ (2*math.pi*1.0*1.0)\n",
    "\n",
    "    final_nonpubs_df = final_nonpubs_df.append({'name': x['name'].item(), 'rating': x['stars'].item(), 'mean_business_rating': mean_rating, \"density\": density}, ignore_index=True)\n",
    "    return final_nonpubs_df\n",
    "\n",
    "\n",
    "for line in pubs_df['index_no']:\n",
    "    x = pubs_df.loc[pubs_df['index_no'] == line]\n",
    "    haversine(x)\n",
    "\n",
    "\n"
   ]
  },
  {
   "cell_type": "code",
   "execution_count": 49,
   "metadata": {},
   "outputs": [],
   "source": [
    "final_nonpubs_df = final_nonpubs_df.fillna(value=0)"
   ]
  },
  {
   "cell_type": "code",
   "execution_count": 50,
   "metadata": {},
   "outputs": [
    {
     "data": {
      "text/plain": [
       "<matplotlib.text.Text at 0x1141e75f8>"
      ]
     },
     "execution_count": 50,
     "metadata": {},
     "output_type": "execute_result"
    },
    {
     "data": {
      "image/png": "[encoded data removed]",
      "text/plain": [
       "<matplotlib.figure.Figure at 0x113788320>"
      ]
     },
     "metadata": {},
     "output_type": "display_data"
    }
   ],
   "source": [
    "#Set style\n",
    "sns.set_context(\"notebook\", font_scale=1.5)\n",
    "sns.set_style(\"ticks\")\n",
    "\n",
    "# Plot Data\n",
    "g = sns.lmplot(x=\"rating\", y=\"mean_business_rating\", size=8, data=final_nonpubs_df,aspect=2.0)\n",
    "\n",
    "# Plot Labels\n",
    "plt.title(\"Relationship between Pub Rating and the Ratings of the Non-Pub Businesses Surrounding it\")\n",
    "plt.xlabel('Rating of Pub')\n",
    "plt.ylabel('Mean Rating of Non-Pub Businesses Around Pub')"
   ]
  },
  {
   "cell_type": "code",
   "execution_count": 52,
   "metadata": {},
   "outputs": [
    {
     "data": {
      "text/html": [
       "<div>\n",
       "<style>\n",
       "    .dataframe thead tr:only-child th {\n",
       "        text-align: right;\n",
       "    }\n",
       "\n",
       "    .dataframe thead th {\n",
       "        text-align: left;\n",
       "    }\n",
       "\n",
       "    .dataframe tbody tr th {\n",
       "        vertical-align: top;\n",
       "    }\n",
       "</style>\n",
       "<table border=\"1\" class=\"dataframe\">\n",
       "  <thead>\n",
       "    <tr style=\"text-align: right;\">\n",
       "      <th></th>\n",
       "      <th>name</th>\n",
       "      <th>postal_code</th>\n",
       "      <th>latitude</th>\n",
       "      <th>longitude</th>\n",
       "      <th>neighborhood</th>\n",
       "      <th>categories</th>\n",
       "      <th>stars</th>\n",
       "      <th>review_count</th>\n",
       "      <th>index_no</th>\n",
       "    </tr>\n",
       "  </thead>\n",
       "  <tbody>\n",
       "    <tr>\n",
       "      <th>0</th>\n",
       "      <td>The Tea Emporium</td>\n",
       "      <td>M4K 1N7</td>\n",
       "      <td>43.677126</td>\n",
       "      <td>-79.353285</td>\n",
       "      <td>Riverdale</td>\n",
       "      <td>[u'Food', u'Coffee &amp; Tea']</td>\n",
       "      <td>4.5</td>\n",
       "      <td>7</td>\n",
       "      <td>0</td>\n",
       "    </tr>\n",
       "    <tr>\n",
       "      <th>1</th>\n",
       "      <td>Hart House Theatre</td>\n",
       "      <td>M5S 3H3</td>\n",
       "      <td>43.663669</td>\n",
       "      <td>-79.394687</td>\n",
       "      <td>University of Toronto</td>\n",
       "      <td>[u'Arts &amp; Entertainment', u'Performing Arts']</td>\n",
       "      <td>4.0</td>\n",
       "      <td>8</td>\n",
       "      <td>1</td>\n",
       "    </tr>\n",
       "    <tr>\n",
       "      <th>2</th>\n",
       "      <td>McCarthy's Irish Pub</td>\n",
       "      <td>M4L 2B5</td>\n",
       "      <td>43.678049</td>\n",
       "      <td>-79.314774</td>\n",
       "      <td>Upper Beach</td>\n",
       "      <td>[u'Pubs', u'Restaurants', u'Bars', u'Irish', u...</td>\n",
       "      <td>4.0</td>\n",
       "      <td>5</td>\n",
       "      <td>2</td>\n",
       "    </tr>\n",
       "    <tr>\n",
       "      <th>3</th>\n",
       "      <td>Paris Bakery &amp; Pastry</td>\n",
       "      <td>M6H 3Z5</td>\n",
       "      <td>43.662401</td>\n",
       "      <td>-79.444706</td>\n",
       "      <td>Wallace Emerson</td>\n",
       "      <td>[u'Bakeries', u'Food']</td>\n",
       "      <td>3.0</td>\n",
       "      <td>16</td>\n",
       "      <td>3</td>\n",
       "    </tr>\n",
       "    <tr>\n",
       "      <th>4</th>\n",
       "      <td>Oishi Sushi</td>\n",
       "      <td>M3J 2G5</td>\n",
       "      <td>43.763510</td>\n",
       "      <td>-79.490750</td>\n",
       "      <td>NaN</td>\n",
       "      <td>[u'Asian Fusion', u'Restaurants', u'Sushi Bars']</td>\n",
       "      <td>2.0</td>\n",
       "      <td>27</td>\n",
       "      <td>4</td>\n",
       "    </tr>\n",
       "  </tbody>\n",
       "</table>\n",
       "</div>"
      ],
      "text/plain": [
       "                    name postal_code   latitude  longitude  \\\n",
       "0       The Tea Emporium     M4K 1N7  43.677126 -79.353285   \n",
       "1     Hart House Theatre     M5S 3H3  43.663669 -79.394687   \n",
       "2   McCarthy's Irish Pub     M4L 2B5  43.678049 -79.314774   \n",
       "3  Paris Bakery & Pastry     M6H 3Z5  43.662401 -79.444706   \n",
       "4            Oishi Sushi     M3J 2G5  43.763510 -79.490750   \n",
       "\n",
       "            neighborhood                                         categories  \\\n",
       "0              Riverdale                         [u'Food', u'Coffee & Tea']   \n",
       "1  University of Toronto      [u'Arts & Entertainment', u'Performing Arts']   \n",
       "2            Upper Beach  [u'Pubs', u'Restaurants', u'Bars', u'Irish', u...   \n",
       "3        Wallace Emerson                             [u'Bakeries', u'Food']   \n",
       "4                    NaN   [u'Asian Fusion', u'Restaurants', u'Sushi Bars']   \n",
       "\n",
       "   stars  review_count  index_no  \n",
       "0    4.5             7         0  \n",
       "1    4.0             8         1  \n",
       "2    4.0             5         2  \n",
       "3    3.0            16         3  \n",
       "4    2.0            27         4  "
      ]
     },
     "execution_count": 52,
     "metadata": {},
     "output_type": "execute_result"
    }
   ],
   "source": [
    "toronto_businesses_df.head()"
   ]
  },
  {
   "cell_type": "code",
   "execution_count": null,
   "metadata": {},
   "outputs": [],
   "source": []
  },
  {
   "cell_type": "code",
   "execution_count": null,
   "metadata": {},
   "outputs": [],
   "source": []
  },
  {
   "cell_type": "code",
   "execution_count": null,
   "metadata": {},
   "outputs": [],
   "source": []
  },
  {
   "cell_type": "code",
   "execution_count": null,
   "metadata": {},
   "outputs": [],
   "source": []
  },
  {
   "cell_type": "code",
   "execution_count": null,
   "metadata": {},
   "outputs": [],
   "source": []
  },
  {
   "cell_type": "code",
   "execution_count": null,
   "metadata": {},
   "outputs": [],
   "source": []
  },
  {
   "cell_type": "code",
   "execution_count": null,
   "metadata": {},
   "outputs": [],
   "source": []
  },
  {
   "cell_type": "code",
   "execution_count": null,
   "metadata": {},
   "outputs": [],
   "source": []
  },
  {
   "cell_type": "code",
   "execution_count": null,
   "metadata": {},
   "outputs": [],
   "source": []
  },
  {
   "cell_type": "code",
   "execution_count": null,
   "metadata": {},
   "outputs": [],
   "source": []
  },
  {
   "cell_type": "code",
   "execution_count": null,
   "metadata": {},
   "outputs": [],
   "source": []
  },
  {
   "cell_type": "code",
   "execution_count": null,
   "metadata": {},
   "outputs": [],
   "source": []
  },
  {
   "cell_type": "code",
   "execution_count": null,
   "metadata": {},
   "outputs": [],
   "source": []
  },
  {
   "cell_type": "code",
   "execution_count": null,
   "metadata": {},
   "outputs": [],
   "source": []
  },
  {
   "cell_type": "code",
   "execution_count": null,
   "metadata": {},
   "outputs": [],
   "source": []
  },
  {
   "cell_type": "code",
   "execution_count": null,
   "metadata": {},
   "outputs": [],
   "source": []
  },
  {
   "cell_type": "code",
   "execution_count": null,
   "metadata": {},
   "outputs": [],
   "source": []
  },
  {
   "cell_type": "code",
   "execution_count": null,
   "metadata": {},
   "outputs": [],
   "source": []
  },
  {
   "cell_type": "code",
   "execution_count": null,
   "metadata": {},
   "outputs": [],
   "source": []
  },
  {
   "cell_type": "code",
   "execution_count": null,
   "metadata": {},
   "outputs": [],
   "source": []
  },
  {
   "cell_type": "code",
   "execution_count": null,
   "metadata": {},
   "outputs": [],
   "source": []
  },
  {
   "cell_type": "code",
   "execution_count": null,
   "metadata": {},
   "outputs": [],
   "source": []
  },
  {
   "cell_type": "code",
   "execution_count": null,
   "metadata": {},
   "outputs": [],
   "source": []
  },
  {
   "cell_type": "code",
   "execution_count": null,
   "metadata": {},
   "outputs": [],
   "source": []
  },
  {
   "cell_type": "code",
   "execution_count": null,
   "metadata": {},
   "outputs": [],
   "source": []
  },
  {
   "cell_type": "code",
   "execution_count": null,
   "metadata": {},
   "outputs": [],
   "source": []
  },
  {
   "cell_type": "code",
   "execution_count": null,
   "metadata": {},
   "outputs": [],
   "source": []
  },
  {
   "cell_type": "code",
   "execution_count": null,
   "metadata": {},
   "outputs": [],
   "source": []
  },
  {
   "cell_type": "code",
   "execution_count": null,
   "metadata": {},
   "outputs": [],
   "source": []
  },
  {
   "cell_type": "code",
   "execution_count": null,
   "metadata": {},
   "outputs": [],
   "source": []
  }
 ],
 "metadata": {
  "kernelspec": {
   "display_name": "Python 3",
   "language": "python",
   "name": "python3"
  },
  "language_info": {
   "codemirror_mode": {
    "name": "ipython",
    "version": 3
   },
   "file_extension": ".py",
   "mimetype": "text/x-python",
   "name": "python",
   "nbconvert_exporter": "python",
   "pygments_lexer": "ipython3",
   "version": "3.6.3"
  }
 },
 "nbformat": 4,
 "nbformat_minor": 2
}
