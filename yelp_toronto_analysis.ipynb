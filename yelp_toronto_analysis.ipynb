{
 "cells": [
  {
   "cell_type": "markdown",
   "metadata": {},
   "source": [
    "# Yelp Data Analysis - Relationship between Density and Quality\n"
   ]
  },
  {
   "cell_type": "code",
   "execution_count": 2,
   "metadata": {},
   "outputs": [],
   "source": [
    "import csv\n",
    "import pandas as pd\n",
    "import numpy as np\n",
    "import pandas as pd\n",
    "import seaborn as sns\n",
    "import operator #need this for sorting dicts later\n",
    "import matplotlib.cm as cm #for colormapping later\n",
    "from matplotlib.colors import LogNorm\n",
    "import matplotlib as mpl\n",
    "import matplotlib.pyplot as plt\n",
    "import math\n",
    "%matplotlib inline"
   ]
  },
  {
   "cell_type": "code",
   "execution_count": 3,
   "metadata": {},
   "outputs": [],
   "source": [
    "## import the yelp business dataset as a csv\n",
    "business_df = pd.read_csv('business.csv')"
   ]
  },
  {
   "cell_type": "code",
   "execution_count": 4,
   "metadata": {},
   "outputs": [
    {
     "data": {
      "text/html": [
       "<div>\n",
       "<style>\n",
       "    .dataframe thead tr:only-child th {\n",
       "        text-align: right;\n",
       "    }\n",
       "\n",
       "    .dataframe thead th {\n",
       "        text-align: left;\n",
       "    }\n",
       "\n",
       "    .dataframe tbody tr th {\n",
       "        vertical-align: top;\n",
       "    }\n",
       "</style>\n",
       "<table border=\"1\" class=\"dataframe\">\n",
       "  <thead>\n",
       "    <tr style=\"text-align: right;\">\n",
       "      <th></th>\n",
       "      <th>attributes.Ambience.divey</th>\n",
       "      <th>attributes.RestaurantsDelivery</th>\n",
       "      <th>attributes.DogsAllowed</th>\n",
       "      <th>postal_code</th>\n",
       "      <th>hours.Thursday</th>\n",
       "      <th>attributes.HairSpecializesIn.coloring</th>\n",
       "      <th>attributes.BestNights.sunday</th>\n",
       "      <th>attributes.BYOB</th>\n",
       "      <th>attributes.AgesAllowed</th>\n",
       "      <th>attributes.Music.video</th>\n",
       "      <th>...</th>\n",
       "      <th>attributes.Caters</th>\n",
       "      <th>attributes.RestaurantsReservations</th>\n",
       "      <th>attributes.DietaryRestrictions.dairy-free</th>\n",
       "      <th>attributes.DietaryRestrictions.vegan</th>\n",
       "      <th>attributes.Ambience.romantic</th>\n",
       "      <th>attributes.Music.jukebox</th>\n",
       "      <th>attributes.Ambience.upscale</th>\n",
       "      <th>attributes.RestaurantsTakeOut</th>\n",
       "      <th>attributes.BikeParking</th>\n",
       "      <th>attributes.OutdoorSeating</th>\n",
       "    </tr>\n",
       "  </thead>\n",
       "  <tbody>\n",
       "    <tr>\n",
       "      <th>0</th>\n",
       "      <td>NaN</td>\n",
       "      <td>NaN</td>\n",
       "      <td>NaN</td>\n",
       "      <td>44143</td>\n",
       "      <td>10:00-21:00</td>\n",
       "      <td>NaN</td>\n",
       "      <td>NaN</td>\n",
       "      <td>NaN</td>\n",
       "      <td>NaN</td>\n",
       "      <td>NaN</td>\n",
       "      <td>...</td>\n",
       "      <td>NaN</td>\n",
       "      <td>NaN</td>\n",
       "      <td>NaN</td>\n",
       "      <td>NaN</td>\n",
       "      <td>NaN</td>\n",
       "      <td>NaN</td>\n",
       "      <td>NaN</td>\n",
       "      <td>NaN</td>\n",
       "      <td>True</td>\n",
       "      <td>NaN</td>\n",
       "    </tr>\n",
       "    <tr>\n",
       "      <th>1</th>\n",
       "      <td>False</td>\n",
       "      <td>True</td>\n",
       "      <td>NaN</td>\n",
       "      <td>28215</td>\n",
       "      <td>10:00-22:00</td>\n",
       "      <td>NaN</td>\n",
       "      <td>NaN</td>\n",
       "      <td>NaN</td>\n",
       "      <td>NaN</td>\n",
       "      <td>NaN</td>\n",
       "      <td>...</td>\n",
       "      <td>NaN</td>\n",
       "      <td>False</td>\n",
       "      <td>NaN</td>\n",
       "      <td>NaN</td>\n",
       "      <td>False</td>\n",
       "      <td>NaN</td>\n",
       "      <td>False</td>\n",
       "      <td>True</td>\n",
       "      <td>NaN</td>\n",
       "      <td>False</td>\n",
       "    </tr>\n",
       "    <tr>\n",
       "      <th>2</th>\n",
       "      <td>NaN</td>\n",
       "      <td>NaN</td>\n",
       "      <td>NaN</td>\n",
       "      <td>M4K 1N7</td>\n",
       "      <td>10:00-19:00</td>\n",
       "      <td>NaN</td>\n",
       "      <td>NaN</td>\n",
       "      <td>NaN</td>\n",
       "      <td>NaN</td>\n",
       "      <td>NaN</td>\n",
       "      <td>...</td>\n",
       "      <td>NaN</td>\n",
       "      <td>NaN</td>\n",
       "      <td>NaN</td>\n",
       "      <td>NaN</td>\n",
       "      <td>NaN</td>\n",
       "      <td>NaN</td>\n",
       "      <td>NaN</td>\n",
       "      <td>NaN</td>\n",
       "      <td>True</td>\n",
       "      <td>False</td>\n",
       "    </tr>\n",
       "    <tr>\n",
       "      <th>3</th>\n",
       "      <td>NaN</td>\n",
       "      <td>NaN</td>\n",
       "      <td>NaN</td>\n",
       "      <td>85258</td>\n",
       "      <td>9:00-17:00</td>\n",
       "      <td>NaN</td>\n",
       "      <td>NaN</td>\n",
       "      <td>NaN</td>\n",
       "      <td>NaN</td>\n",
       "      <td>NaN</td>\n",
       "      <td>...</td>\n",
       "      <td>NaN</td>\n",
       "      <td>NaN</td>\n",
       "      <td>NaN</td>\n",
       "      <td>NaN</td>\n",
       "      <td>NaN</td>\n",
       "      <td>NaN</td>\n",
       "      <td>NaN</td>\n",
       "      <td>NaN</td>\n",
       "      <td>NaN</td>\n",
       "      <td>NaN</td>\n",
       "    </tr>\n",
       "    <tr>\n",
       "      <th>4</th>\n",
       "      <td>False</td>\n",
       "      <td>False</td>\n",
       "      <td>NaN</td>\n",
       "      <td>85016</td>\n",
       "      <td>NaN</td>\n",
       "      <td>NaN</td>\n",
       "      <td>NaN</td>\n",
       "      <td>NaN</td>\n",
       "      <td>NaN</td>\n",
       "      <td>NaN</td>\n",
       "      <td>...</td>\n",
       "      <td>True</td>\n",
       "      <td>False</td>\n",
       "      <td>NaN</td>\n",
       "      <td>NaN</td>\n",
       "      <td>False</td>\n",
       "      <td>NaN</td>\n",
       "      <td>False</td>\n",
       "      <td>True</td>\n",
       "      <td>True</td>\n",
       "      <td>False</td>\n",
       "    </tr>\n",
       "  </tbody>\n",
       "</table>\n",
       "<p>5 rows × 101 columns</p>\n",
       "</div>"
      ],
      "text/plain": [
       "  attributes.Ambience.divey attributes.RestaurantsDelivery  \\\n",
       "0                       NaN                            NaN   \n",
       "1                     False                           True   \n",
       "2                       NaN                            NaN   \n",
       "3                       NaN                            NaN   \n",
       "4                     False                          False   \n",
       "\n",
       "  attributes.DogsAllowed postal_code hours.Thursday  \\\n",
       "0                    NaN       44143    10:00-21:00   \n",
       "1                    NaN       28215    10:00-22:00   \n",
       "2                    NaN     M4K 1N7    10:00-19:00   \n",
       "3                    NaN       85258     9:00-17:00   \n",
       "4                    NaN       85016            NaN   \n",
       "\n",
       "  attributes.HairSpecializesIn.coloring attributes.BestNights.sunday  \\\n",
       "0                                   NaN                          NaN   \n",
       "1                                   NaN                          NaN   \n",
       "2                                   NaN                          NaN   \n",
       "3                                   NaN                          NaN   \n",
       "4                                   NaN                          NaN   \n",
       "\n",
       "  attributes.BYOB attributes.AgesAllowed attributes.Music.video  \\\n",
       "0             NaN                    NaN                    NaN   \n",
       "1             NaN                    NaN                    NaN   \n",
       "2             NaN                    NaN                    NaN   \n",
       "3             NaN                    NaN                    NaN   \n",
       "4             NaN                    NaN                    NaN   \n",
       "\n",
       "             ...            attributes.Caters  \\\n",
       "0            ...                          NaN   \n",
       "1            ...                          NaN   \n",
       "2            ...                          NaN   \n",
       "3            ...                          NaN   \n",
       "4            ...                         True   \n",
       "\n",
       "   attributes.RestaurantsReservations  \\\n",
       "0                                 NaN   \n",
       "1                               False   \n",
       "2                                 NaN   \n",
       "3                                 NaN   \n",
       "4                               False   \n",
       "\n",
       "  attributes.DietaryRestrictions.dairy-free  \\\n",
       "0                                       NaN   \n",
       "1                                       NaN   \n",
       "2                                       NaN   \n",
       "3                                       NaN   \n",
       "4                                       NaN   \n",
       "\n",
       "  attributes.DietaryRestrictions.vegan attributes.Ambience.romantic  \\\n",
       "0                                  NaN                          NaN   \n",
       "1                                  NaN                        False   \n",
       "2                                  NaN                          NaN   \n",
       "3                                  NaN                          NaN   \n",
       "4                                  NaN                        False   \n",
       "\n",
       "  attributes.Music.jukebox attributes.Ambience.upscale  \\\n",
       "0                      NaN                         NaN   \n",
       "1                      NaN                       False   \n",
       "2                      NaN                         NaN   \n",
       "3                      NaN                         NaN   \n",
       "4                      NaN                       False   \n",
       "\n",
       "  attributes.RestaurantsTakeOut attributes.BikeParking  \\\n",
       "0                           NaN                   True   \n",
       "1                          True                    NaN   \n",
       "2                           NaN                   True   \n",
       "3                           NaN                    NaN   \n",
       "4                          True                   True   \n",
       "\n",
       "  attributes.OutdoorSeating  \n",
       "0                       NaN  \n",
       "1                     False  \n",
       "2                     False  \n",
       "3                       NaN  \n",
       "4                     False  \n",
       "\n",
       "[5 rows x 101 columns]"
      ]
     },
     "execution_count": 4,
     "metadata": {},
     "output_type": "execute_result"
    }
   ],
   "source": [
    "business_df.head()"
   ]
  },
  {
   "cell_type": "markdown",
   "metadata": {},
   "source": [
    "## Cleaning the Dataset\n",
    "\n",
    "We are going to remove the unecessary columns from this dataset:"
   ]
  },
  {
   "cell_type": "code",
   "execution_count": 5,
   "metadata": {},
   "outputs": [],
   "source": [
    "business_df = business_df[['name','postal_code','latitude','longitude','city','neighborhood','categories','stars','review_count']]"
   ]
  },
  {
   "cell_type": "code",
   "execution_count": 6,
   "metadata": {},
   "outputs": [
    {
     "data": {
      "text/html": [
       "<div>\n",
       "<style>\n",
       "    .dataframe thead tr:only-child th {\n",
       "        text-align: right;\n",
       "    }\n",
       "\n",
       "    .dataframe thead th {\n",
       "        text-align: left;\n",
       "    }\n",
       "\n",
       "    .dataframe tbody tr th {\n",
       "        vertical-align: top;\n",
       "    }\n",
       "</style>\n",
       "<table border=\"1\" class=\"dataframe\">\n",
       "  <thead>\n",
       "    <tr style=\"text-align: right;\">\n",
       "      <th></th>\n",
       "      <th>name</th>\n",
       "      <th>postal_code</th>\n",
       "      <th>latitude</th>\n",
       "      <th>longitude</th>\n",
       "      <th>city</th>\n",
       "      <th>neighborhood</th>\n",
       "      <th>categories</th>\n",
       "      <th>stars</th>\n",
       "      <th>review_count</th>\n",
       "    </tr>\n",
       "  </thead>\n",
       "  <tbody>\n",
       "    <tr>\n",
       "      <th>0</th>\n",
       "      <td>Richmond Town Square</td>\n",
       "      <td>44143</td>\n",
       "      <td>41.541716</td>\n",
       "      <td>-81.493116</td>\n",
       "      <td>Richmond Heights</td>\n",
       "      <td>NaN</td>\n",
       "      <td>[u'Shopping', u'Shopping Centers']</td>\n",
       "      <td>2.0</td>\n",
       "      <td>17</td>\n",
       "    </tr>\n",
       "    <tr>\n",
       "      <th>1</th>\n",
       "      <td>South Florida Style Chicken &amp; Ribs</td>\n",
       "      <td>28215</td>\n",
       "      <td>35.236870</td>\n",
       "      <td>-80.741976</td>\n",
       "      <td>Charlotte</td>\n",
       "      <td>Eastland</td>\n",
       "      <td>[u'Food', u'Soul Food', u'Convenience Stores',...</td>\n",
       "      <td>4.5</td>\n",
       "      <td>4</td>\n",
       "    </tr>\n",
       "    <tr>\n",
       "      <th>2</th>\n",
       "      <td>The Tea Emporium</td>\n",
       "      <td>M4K 1N7</td>\n",
       "      <td>43.677126</td>\n",
       "      <td>-79.353285</td>\n",
       "      <td>Toronto</td>\n",
       "      <td>Riverdale</td>\n",
       "      <td>[u'Food', u'Coffee &amp; Tea']</td>\n",
       "      <td>4.5</td>\n",
       "      <td>7</td>\n",
       "    </tr>\n",
       "    <tr>\n",
       "      <th>3</th>\n",
       "      <td>TRUmatch</td>\n",
       "      <td>85258</td>\n",
       "      <td>33.565082</td>\n",
       "      <td>-111.916400</td>\n",
       "      <td>Scottsdale</td>\n",
       "      <td>NaN</td>\n",
       "      <td>[u'Professional Services', u'Matchmakers']</td>\n",
       "      <td>3.0</td>\n",
       "      <td>3</td>\n",
       "    </tr>\n",
       "    <tr>\n",
       "      <th>4</th>\n",
       "      <td>Blimpie</td>\n",
       "      <td>85016</td>\n",
       "      <td>33.505928</td>\n",
       "      <td>-112.038847</td>\n",
       "      <td>Phoenix</td>\n",
       "      <td>NaN</td>\n",
       "      <td>[u'Sandwiches', u'Restaurants']</td>\n",
       "      <td>4.5</td>\n",
       "      <td>10</td>\n",
       "    </tr>\n",
       "  </tbody>\n",
       "</table>\n",
       "</div>"
      ],
      "text/plain": [
       "                                 name postal_code   latitude   longitude  \\\n",
       "0                Richmond Town Square       44143  41.541716  -81.493116   \n",
       "1  South Florida Style Chicken & Ribs       28215  35.236870  -80.741976   \n",
       "2                    The Tea Emporium     M4K 1N7  43.677126  -79.353285   \n",
       "3                            TRUmatch       85258  33.565082 -111.916400   \n",
       "4                             Blimpie       85016  33.505928 -112.038847   \n",
       "\n",
       "               city neighborhood  \\\n",
       "0  Richmond Heights          NaN   \n",
       "1         Charlotte     Eastland   \n",
       "2           Toronto    Riverdale   \n",
       "3        Scottsdale          NaN   \n",
       "4           Phoenix          NaN   \n",
       "\n",
       "                                          categories  stars  review_count  \n",
       "0                 [u'Shopping', u'Shopping Centers']    2.0            17  \n",
       "1  [u'Food', u'Soul Food', u'Convenience Stores',...    4.5             4  \n",
       "2                         [u'Food', u'Coffee & Tea']    4.5             7  \n",
       "3         [u'Professional Services', u'Matchmakers']    3.0             3  \n",
       "4                    [u'Sandwiches', u'Restaurants']    4.5            10  "
      ]
     },
     "execution_count": 6,
     "metadata": {},
     "output_type": "execute_result"
    }
   ],
   "source": [
    "business_df.head()"
   ]
  },
  {
   "cell_type": "code",
   "execution_count": 7,
   "metadata": {},
   "outputs": [
    {
     "name": "stdout",
     "output_type": "stream",
     "text": [
      "<class 'pandas.core.frame.DataFrame'>\n",
      "RangeIndex: 156639 entries, 0 to 156638\n",
      "Data columns (total 9 columns):\n",
      "name            156639 non-null object\n",
      "postal_code     156086 non-null object\n",
      "latitude        156638 non-null float64\n",
      "longitude       156638 non-null float64\n",
      "city            156636 non-null object\n",
      "neighborhood    62236 non-null object\n",
      "categories      156639 non-null object\n",
      "stars           156639 non-null float64\n",
      "review_count    156639 non-null int64\n",
      "dtypes: float64(3), int64(1), object(5)\n",
      "memory usage: 10.8+ MB\n"
     ]
    }
   ],
   "source": [
    "business_df.info()"
   ]
  },
  {
   "cell_type": "markdown",
   "metadata": {},
   "source": [
    "We can focus on examining businesses only in Toronto"
   ]
  },
  {
   "cell_type": "code",
   "execution_count": 8,
   "metadata": {},
   "outputs": [
    {
     "data": {
      "text/html": [
       "<div>\n",
       "<style>\n",
       "    .dataframe thead tr:only-child th {\n",
       "        text-align: right;\n",
       "    }\n",
       "\n",
       "    .dataframe thead th {\n",
       "        text-align: left;\n",
       "    }\n",
       "\n",
       "    .dataframe tbody tr th {\n",
       "        vertical-align: top;\n",
       "    }\n",
       "</style>\n",
       "<table border=\"1\" class=\"dataframe\">\n",
       "  <thead>\n",
       "    <tr style=\"text-align: right;\">\n",
       "      <th></th>\n",
       "      <th>name</th>\n",
       "      <th>postal_code</th>\n",
       "      <th>latitude</th>\n",
       "      <th>longitude</th>\n",
       "      <th>city</th>\n",
       "      <th>neighborhood</th>\n",
       "      <th>categories</th>\n",
       "      <th>stars</th>\n",
       "      <th>review_count</th>\n",
       "    </tr>\n",
       "  </thead>\n",
       "  <tbody>\n",
       "    <tr>\n",
       "      <th>2</th>\n",
       "      <td>The Tea Emporium</td>\n",
       "      <td>M4K 1N7</td>\n",
       "      <td>43.677126</td>\n",
       "      <td>-79.353285</td>\n",
       "      <td>Toronto</td>\n",
       "      <td>Riverdale</td>\n",
       "      <td>[u'Food', u'Coffee &amp; Tea']</td>\n",
       "      <td>4.5</td>\n",
       "      <td>7</td>\n",
       "    </tr>\n",
       "    <tr>\n",
       "      <th>26</th>\n",
       "      <td>Hart House Theatre</td>\n",
       "      <td>M5S 3H3</td>\n",
       "      <td>43.663669</td>\n",
       "      <td>-79.394687</td>\n",
       "      <td>Toronto</td>\n",
       "      <td>University of Toronto</td>\n",
       "      <td>[u'Arts &amp; Entertainment', u'Performing Arts']</td>\n",
       "      <td>4.0</td>\n",
       "      <td>8</td>\n",
       "    </tr>\n",
       "    <tr>\n",
       "      <th>38</th>\n",
       "      <td>McCarthy's Irish Pub</td>\n",
       "      <td>M4L 2B5</td>\n",
       "      <td>43.678049</td>\n",
       "      <td>-79.314774</td>\n",
       "      <td>Toronto</td>\n",
       "      <td>Upper Beach</td>\n",
       "      <td>[u'Pubs', u'Restaurants', u'Bars', u'Irish', u...</td>\n",
       "      <td>4.0</td>\n",
       "      <td>5</td>\n",
       "    </tr>\n",
       "    <tr>\n",
       "      <th>44</th>\n",
       "      <td>Paris Bakery &amp; Pastry</td>\n",
       "      <td>M6H 3Z5</td>\n",
       "      <td>43.662401</td>\n",
       "      <td>-79.444706</td>\n",
       "      <td>Toronto</td>\n",
       "      <td>Wallace Emerson</td>\n",
       "      <td>[u'Bakeries', u'Food']</td>\n",
       "      <td>3.0</td>\n",
       "      <td>16</td>\n",
       "    </tr>\n",
       "    <tr>\n",
       "      <th>53</th>\n",
       "      <td>Oishi Sushi</td>\n",
       "      <td>M3J 2G5</td>\n",
       "      <td>43.763510</td>\n",
       "      <td>-79.490750</td>\n",
       "      <td>Toronto</td>\n",
       "      <td>NaN</td>\n",
       "      <td>[u'Asian Fusion', u'Restaurants', u'Sushi Bars']</td>\n",
       "      <td>2.0</td>\n",
       "      <td>27</td>\n",
       "    </tr>\n",
       "    <tr>\n",
       "      <th>55</th>\n",
       "      <td>Boardwalk Place</td>\n",
       "      <td>M4W 3L6</td>\n",
       "      <td>43.663010</td>\n",
       "      <td>-79.310898</td>\n",
       "      <td>Toronto</td>\n",
       "      <td>NaN</td>\n",
       "      <td>[u'American (Traditional)', u'Restaurants', u'...</td>\n",
       "      <td>3.0</td>\n",
       "      <td>13</td>\n",
       "    </tr>\n",
       "    <tr>\n",
       "      <th>62</th>\n",
       "      <td>Adelaide Hall</td>\n",
       "      <td>M5H 1X6</td>\n",
       "      <td>43.648172</td>\n",
       "      <td>-79.389077</td>\n",
       "      <td>Toronto</td>\n",
       "      <td>Entertainment District</td>\n",
       "      <td>[u'Nightlife', u'Music Venues', u'DJs', u'Arts...</td>\n",
       "      <td>3.5</td>\n",
       "      <td>10</td>\n",
       "    </tr>\n",
       "    <tr>\n",
       "      <th>63</th>\n",
       "      <td>Sangria Lounge</td>\n",
       "      <td>M6R 2K9</td>\n",
       "      <td>43.643537</td>\n",
       "      <td>-79.447954</td>\n",
       "      <td>Toronto</td>\n",
       "      <td>High Park</td>\n",
       "      <td>[u'Nightlife', u'Lounges', u'Beer', u'Wine &amp; S...</td>\n",
       "      <td>3.5</td>\n",
       "      <td>23</td>\n",
       "    </tr>\n",
       "    <tr>\n",
       "      <th>134</th>\n",
       "      <td>Buonanotte</td>\n",
       "      <td>M5V 1H2</td>\n",
       "      <td>43.645687</td>\n",
       "      <td>-79.390493</td>\n",
       "      <td>Toronto</td>\n",
       "      <td>Entertainment District</td>\n",
       "      <td>[u'Italian', u'Restaurants']</td>\n",
       "      <td>2.0</td>\n",
       "      <td>66</td>\n",
       "    </tr>\n",
       "    <tr>\n",
       "      <th>154</th>\n",
       "      <td>Big Daddy's Bourbon Street Bistro &amp; Oyster Bar</td>\n",
       "      <td>M5H 1K5</td>\n",
       "      <td>43.647499</td>\n",
       "      <td>-79.386471</td>\n",
       "      <td>Toronto</td>\n",
       "      <td>Entertainment District</td>\n",
       "      <td>[u'Cajun/Creole', u'Restaurants', u'Seafood']</td>\n",
       "      <td>3.5</td>\n",
       "      <td>132</td>\n",
       "    </tr>\n",
       "  </tbody>\n",
       "</table>\n",
       "</div>"
      ],
      "text/plain": [
       "                                               name postal_code   latitude  \\\n",
       "2                                  The Tea Emporium     M4K 1N7  43.677126   \n",
       "26                               Hart House Theatre     M5S 3H3  43.663669   \n",
       "38                             McCarthy's Irish Pub     M4L 2B5  43.678049   \n",
       "44                            Paris Bakery & Pastry     M6H 3Z5  43.662401   \n",
       "53                                      Oishi Sushi     M3J 2G5  43.763510   \n",
       "55                                  Boardwalk Place     M4W 3L6  43.663010   \n",
       "62                                    Adelaide Hall     M5H 1X6  43.648172   \n",
       "63                                   Sangria Lounge     M6R 2K9  43.643537   \n",
       "134                                      Buonanotte     M5V 1H2  43.645687   \n",
       "154  Big Daddy's Bourbon Street Bistro & Oyster Bar     M5H 1K5  43.647499   \n",
       "\n",
       "     longitude     city            neighborhood  \\\n",
       "2   -79.353285  Toronto               Riverdale   \n",
       "26  -79.394687  Toronto   University of Toronto   \n",
       "38  -79.314774  Toronto             Upper Beach   \n",
       "44  -79.444706  Toronto         Wallace Emerson   \n",
       "53  -79.490750  Toronto                     NaN   \n",
       "55  -79.310898  Toronto                     NaN   \n",
       "62  -79.389077  Toronto  Entertainment District   \n",
       "63  -79.447954  Toronto               High Park   \n",
       "134 -79.390493  Toronto  Entertainment District   \n",
       "154 -79.386471  Toronto  Entertainment District   \n",
       "\n",
       "                                            categories  stars  review_count  \n",
       "2                           [u'Food', u'Coffee & Tea']    4.5             7  \n",
       "26       [u'Arts & Entertainment', u'Performing Arts']    4.0             8  \n",
       "38   [u'Pubs', u'Restaurants', u'Bars', u'Irish', u...    4.0             5  \n",
       "44                              [u'Bakeries', u'Food']    3.0            16  \n",
       "53    [u'Asian Fusion', u'Restaurants', u'Sushi Bars']    2.0            27  \n",
       "55   [u'American (Traditional)', u'Restaurants', u'...    3.0            13  \n",
       "62   [u'Nightlife', u'Music Venues', u'DJs', u'Arts...    3.5            10  \n",
       "63   [u'Nightlife', u'Lounges', u'Beer', u'Wine & S...    3.5            23  \n",
       "134                       [u'Italian', u'Restaurants']    2.0            66  \n",
       "154      [u'Cajun/Creole', u'Restaurants', u'Seafood']    3.5           132  "
      ]
     },
     "execution_count": 8,
     "metadata": {},
     "output_type": "execute_result"
    }
   ],
   "source": [
    "toronto_restaurants_df = business_df[business_df['city'] == 'Toronto']\n",
    "toronto_restaurants_df.reset_index(level=None, drop=False, inplace=False, col_level=0, col_fill='')\n",
    "toronto_restaurants_df.head(10)"
   ]
  },
  {
   "cell_type": "markdown",
   "metadata": {},
   "source": [
    "Next, we create a DataFrame called not_restaurant. We filter through all the values in the categories column for non restaurant businesses and store these corresponding rows in it. At this time, we are only considering u'Restaurant as our restaurant variable. However, this can be extended to include Pubs with u'Pubs or coffee shops with u'Coffee & Tea"
   ]
  },
  {
   "cell_type": "code",
   "execution_count": 9,
   "metadata": {},
   "outputs": [],
   "source": [
    "not_restaurant = pd.DataFrame()\n",
    "for lst in toronto_restaurants_df['categories']:\n",
    "    if \"u'Restaurants'\" not in lst:\n",
    "        not_restaurant = not_restaurant.append(toronto_restaurants_df[toronto_restaurants_df['categories'] == lst])"
   ]
  },
  {
   "cell_type": "markdown",
   "metadata": {},
   "source": [
    "This is what the dataframe with non retsaurant businesses looks like now:"
   ]
  },
  {
   "cell_type": "code",
   "execution_count": 10,
   "metadata": {},
   "outputs": [
    {
     "data": {
      "text/html": [
       "<div>\n",
       "<style>\n",
       "    .dataframe thead tr:only-child th {\n",
       "        text-align: right;\n",
       "    }\n",
       "\n",
       "    .dataframe thead th {\n",
       "        text-align: left;\n",
       "    }\n",
       "\n",
       "    .dataframe tbody tr th {\n",
       "        vertical-align: top;\n",
       "    }\n",
       "</style>\n",
       "<table border=\"1\" class=\"dataframe\">\n",
       "  <thead>\n",
       "    <tr style=\"text-align: right;\">\n",
       "      <th></th>\n",
       "      <th>latitude</th>\n",
       "      <th>longitude</th>\n",
       "      <th>stars</th>\n",
       "      <th>review_count</th>\n",
       "    </tr>\n",
       "  </thead>\n",
       "  <tbody>\n",
       "    <tr>\n",
       "      <th>count</th>\n",
       "      <td>186666.000000</td>\n",
       "      <td>186666.000000</td>\n",
       "      <td>186671.000000</td>\n",
       "      <td>186671.000000</td>\n",
       "    </tr>\n",
       "    <tr>\n",
       "      <th>mean</th>\n",
       "      <td>43.672475</td>\n",
       "      <td>-79.393946</td>\n",
       "      <td>3.544356</td>\n",
       "      <td>15.765973</td>\n",
       "    </tr>\n",
       "    <tr>\n",
       "      <th>std</th>\n",
       "      <td>0.127474</td>\n",
       "      <td>0.083513</td>\n",
       "      <td>0.846756</td>\n",
       "      <td>24.987281</td>\n",
       "    </tr>\n",
       "    <tr>\n",
       "      <th>min</th>\n",
       "      <td>-9.095137</td>\n",
       "      <td>-79.653939</td>\n",
       "      <td>1.000000</td>\n",
       "      <td>3.000000</td>\n",
       "    </tr>\n",
       "    <tr>\n",
       "      <th>25%</th>\n",
       "      <td>43.650502</td>\n",
       "      <td>-79.415217</td>\n",
       "      <td>3.000000</td>\n",
       "      <td>4.000000</td>\n",
       "    </tr>\n",
       "    <tr>\n",
       "      <th>50%</th>\n",
       "      <td>43.662401</td>\n",
       "      <td>-79.392898</td>\n",
       "      <td>3.500000</td>\n",
       "      <td>7.000000</td>\n",
       "    </tr>\n",
       "    <tr>\n",
       "      <th>75%</th>\n",
       "      <td>43.678225</td>\n",
       "      <td>-79.377921</td>\n",
       "      <td>4.000000</td>\n",
       "      <td>15.000000</td>\n",
       "    </tr>\n",
       "    <tr>\n",
       "      <th>max</th>\n",
       "      <td>45.028731</td>\n",
       "      <td>-51.833829</td>\n",
       "      <td>5.000000</td>\n",
       "      <td>620.000000</td>\n",
       "    </tr>\n",
       "  </tbody>\n",
       "</table>\n",
       "</div>"
      ],
      "text/plain": [
       "            latitude      longitude          stars   review_count\n",
       "count  186666.000000  186666.000000  186671.000000  186671.000000\n",
       "mean       43.672475     -79.393946       3.544356      15.765973\n",
       "std         0.127474       0.083513       0.846756      24.987281\n",
       "min        -9.095137     -79.653939       1.000000       3.000000\n",
       "25%        43.650502     -79.415217       3.000000       4.000000\n",
       "50%        43.662401     -79.392898       3.500000       7.000000\n",
       "75%        43.678225     -79.377921       4.000000      15.000000\n",
       "max        45.028731     -51.833829       5.000000     620.000000"
      ]
     },
     "execution_count": 10,
     "metadata": {},
     "output_type": "execute_result"
    }
   ],
   "source": [
    "not_restaurant.describe()"
   ]
  },
  {
   "cell_type": "markdown",
   "metadata": {},
   "source": [
    "For the sake of proper methodology, we also store all the restaurant businesses in a separate dataframe called is_restaurant and pick a single restaurant at random and store it in the variable restaurant_df:"
   ]
  },
  {
   "cell_type": "code",
   "execution_count": 11,
   "metadata": {},
   "outputs": [],
   "source": [
    "is_restaurant = pd.DataFrame()\n",
    "for lst in toronto_restaurants_df['categories']:\n",
    "    if \"u'Restaurants'\" in lst:\n",
    "        is_restaurant = is_restaurant.append(toronto_restaurants_df[toronto_restaurants_df['categories'] == lst])"
   ]
  },
  {
   "cell_type": "code",
   "execution_count": 12,
   "metadata": {},
   "outputs": [
    {
     "data": {
      "text/html": [
       "<div>\n",
       "<style>\n",
       "    .dataframe thead tr:only-child th {\n",
       "        text-align: right;\n",
       "    }\n",
       "\n",
       "    .dataframe thead th {\n",
       "        text-align: left;\n",
       "    }\n",
       "\n",
       "    .dataframe tbody tr th {\n",
       "        vertical-align: top;\n",
       "    }\n",
       "</style>\n",
       "<table border=\"1\" class=\"dataframe\">\n",
       "  <thead>\n",
       "    <tr style=\"text-align: right;\">\n",
       "      <th></th>\n",
       "      <th>latitude</th>\n",
       "      <th>longitude</th>\n",
       "      <th>stars</th>\n",
       "      <th>review_count</th>\n",
       "    </tr>\n",
       "  </thead>\n",
       "  <tbody>\n",
       "    <tr>\n",
       "      <th>count</th>\n",
       "      <td>122208.000000</td>\n",
       "      <td>122208.000000</td>\n",
       "      <td>122208.000000</td>\n",
       "      <td>122208.000000</td>\n",
       "    </tr>\n",
       "    <tr>\n",
       "      <th>mean</th>\n",
       "      <td>43.686856</td>\n",
       "      <td>-79.387640</td>\n",
       "      <td>3.300181</td>\n",
       "      <td>34.697589</td>\n",
       "    </tr>\n",
       "    <tr>\n",
       "      <th>std</th>\n",
       "      <td>0.050628</td>\n",
       "      <td>0.061476</td>\n",
       "      <td>0.722381</td>\n",
       "      <td>63.290478</td>\n",
       "    </tr>\n",
       "    <tr>\n",
       "      <th>min</th>\n",
       "      <td>43.592411</td>\n",
       "      <td>-79.703390</td>\n",
       "      <td>1.000000</td>\n",
       "      <td>3.000000</td>\n",
       "    </tr>\n",
       "    <tr>\n",
       "      <th>25%</th>\n",
       "      <td>43.653504</td>\n",
       "      <td>-79.414505</td>\n",
       "      <td>3.000000</td>\n",
       "      <td>6.000000</td>\n",
       "    </tr>\n",
       "    <tr>\n",
       "      <th>50%</th>\n",
       "      <td>43.665449</td>\n",
       "      <td>-79.393182</td>\n",
       "      <td>3.500000</td>\n",
       "      <td>15.000000</td>\n",
       "    </tr>\n",
       "    <tr>\n",
       "      <th>75%</th>\n",
       "      <td>43.705170</td>\n",
       "      <td>-79.369205</td>\n",
       "      <td>4.000000</td>\n",
       "      <td>38.000000</td>\n",
       "    </tr>\n",
       "    <tr>\n",
       "      <th>max</th>\n",
       "      <td>43.876501</td>\n",
       "      <td>-79.137540</td>\n",
       "      <td>5.000000</td>\n",
       "      <td>1258.000000</td>\n",
       "    </tr>\n",
       "  </tbody>\n",
       "</table>\n",
       "</div>"
      ],
      "text/plain": [
       "            latitude      longitude          stars   review_count\n",
       "count  122208.000000  122208.000000  122208.000000  122208.000000\n",
       "mean       43.686856     -79.387640       3.300181      34.697589\n",
       "std         0.050628       0.061476       0.722381      63.290478\n",
       "min        43.592411     -79.703390       1.000000       3.000000\n",
       "25%        43.653504     -79.414505       3.000000       6.000000\n",
       "50%        43.665449     -79.393182       3.500000      15.000000\n",
       "75%        43.705170     -79.369205       4.000000      38.000000\n",
       "max        43.876501     -79.137540       5.000000    1258.000000"
      ]
     },
     "execution_count": 12,
     "metadata": {},
     "output_type": "execute_result"
    }
   ],
   "source": [
    "is_restaurant.describe()"
   ]
  },
  {
   "cell_type": "code",
   "execution_count": 13,
   "metadata": {
    "scrolled": true
   },
   "outputs": [
    {
     "data": {
      "text/html": [
       "<div>\n",
       "<style>\n",
       "    .dataframe thead tr:only-child th {\n",
       "        text-align: right;\n",
       "    }\n",
       "\n",
       "    .dataframe thead th {\n",
       "        text-align: left;\n",
       "    }\n",
       "\n",
       "    .dataframe tbody tr th {\n",
       "        vertical-align: top;\n",
       "    }\n",
       "</style>\n",
       "<table border=\"1\" class=\"dataframe\">\n",
       "  <thead>\n",
       "    <tr style=\"text-align: right;\">\n",
       "      <th></th>\n",
       "      <th>name</th>\n",
       "      <th>postal_code</th>\n",
       "      <th>latitude</th>\n",
       "      <th>longitude</th>\n",
       "      <th>city</th>\n",
       "      <th>neighborhood</th>\n",
       "      <th>categories</th>\n",
       "      <th>stars</th>\n",
       "      <th>review_count</th>\n",
       "    </tr>\n",
       "  </thead>\n",
       "  <tbody>\n",
       "    <tr>\n",
       "      <th>38</th>\n",
       "      <td>McCarthy's Irish Pub</td>\n",
       "      <td>M4L 2B5</td>\n",
       "      <td>43.678049</td>\n",
       "      <td>-79.314774</td>\n",
       "      <td>Toronto</td>\n",
       "      <td>Upper Beach</td>\n",
       "      <td>[u'Pubs', u'Restaurants', u'Bars', u'Irish', u...</td>\n",
       "      <td>4.0</td>\n",
       "      <td>5</td>\n",
       "    </tr>\n",
       "  </tbody>\n",
       "</table>\n",
       "</div>"
      ],
      "text/plain": [
       "                    name postal_code   latitude  longitude     city  \\\n",
       "38  McCarthy's Irish Pub     M4L 2B5  43.678049 -79.314774  Toronto   \n",
       "\n",
       "   neighborhood                                         categories  stars  \\\n",
       "38  Upper Beach  [u'Pubs', u'Restaurants', u'Bars', u'Irish', u...    4.0   \n",
       "\n",
       "    review_count  \n",
       "38             5  "
      ]
     },
     "execution_count": 13,
     "metadata": {},
     "output_type": "execute_result"
    }
   ],
   "source": [
    "restaurant_df = is_restaurant.iloc[[0]]\n",
    "restaurant_df"
   ]
  },
  {
   "cell_type": "markdown",
   "metadata": {},
   "source": [
    "Next, we will calculate the distances between all the non-restaurant businesses in not_restaurant and McCarthy's Irish Pub. The Haversine formula is needed to calculate the great-circle distance. The great-circle distance is simply the shortest distance over the Earth's surface. The advantage of using the Haversine formula is that it maintains its integrity in calculations, even over small distances unlike the Law of Cosine formula."
   ]
  },
  {
   "cell_type": "code",
   "execution_count": 14,
   "metadata": {},
   "outputs": [],
   "source": [
    "## Function that calculates the haversine\n",
    "\n",
    "\n",
    "df = pd.DataFrame()\n",
    "\n",
    "df['LAT_rad'], df['LON_rad'] = np.radians(not_restaurant['latitude']), np.radians(not_restaurant['longitude'])\n",
    "df['dLON'] = df['LON_rad'] - math.radians(restaurant_df['longitude'])\n",
    "df['dLAT'] = df['LAT_rad'] - math.radians(restaurant_df['latitude'])\n",
    "\n",
    "# using heaversine's formula:\n",
    "not_restaurant['distance'] = 6367 * 2 * np.arcsin(np.sqrt(np.sin(df['dLAT']/2)**2 + math.cos(math.radians(37.2175900)) * np.cos(df['LAT_rad']) * np.sin(df['dLON']/2)**2))\n",
    "not_restaurant = not_restaurant.drop_duplicates(subset=['name','postal_code','review_count', 'distance'], keep=False)"
   ]
  },
  {
   "cell_type": "code",
   "execution_count": 15,
   "metadata": {
    "scrolled": true
   },
   "outputs": [
    {
     "data": {
      "text/html": [
       "<div>\n",
       "<style>\n",
       "    .dataframe thead tr:only-child th {\n",
       "        text-align: right;\n",
       "    }\n",
       "\n",
       "    .dataframe thead th {\n",
       "        text-align: left;\n",
       "    }\n",
       "\n",
       "    .dataframe tbody tr th {\n",
       "        vertical-align: top;\n",
       "    }\n",
       "</style>\n",
       "<table border=\"1\" class=\"dataframe\">\n",
       "  <thead>\n",
       "    <tr style=\"text-align: right;\">\n",
       "      <th></th>\n",
       "      <th>latitude</th>\n",
       "      <th>longitude</th>\n",
       "      <th>stars</th>\n",
       "      <th>review_count</th>\n",
       "      <th>distance</th>\n",
       "    </tr>\n",
       "  </thead>\n",
       "  <tbody>\n",
       "    <tr>\n",
       "      <th>count</th>\n",
       "      <td>3738.000000</td>\n",
       "      <td>3738.000000</td>\n",
       "      <td>3738.000000</td>\n",
       "      <td>3738.000000</td>\n",
       "      <td>3738.000000</td>\n",
       "    </tr>\n",
       "    <tr>\n",
       "      <th>mean</th>\n",
       "      <td>43.659746</td>\n",
       "      <td>-79.390947</td>\n",
       "      <td>3.702381</td>\n",
       "      <td>12.928571</td>\n",
       "      <td>10.215756</td>\n",
       "    </tr>\n",
       "    <tr>\n",
       "      <th>std</th>\n",
       "      <td>0.863939</td>\n",
       "      <td>0.454143</td>\n",
       "      <td>0.979130</td>\n",
       "      <td>24.914754</td>\n",
       "      <td>107.032880</td>\n",
       "    </tr>\n",
       "    <tr>\n",
       "      <th>min</th>\n",
       "      <td>-9.095137</td>\n",
       "      <td>-79.653939</td>\n",
       "      <td>1.000000</td>\n",
       "      <td>3.000000</td>\n",
       "      <td>0.043838</td>\n",
       "    </tr>\n",
       "    <tr>\n",
       "      <th>25%</th>\n",
       "      <td>43.649911</td>\n",
       "      <td>-79.419545</td>\n",
       "      <td>3.000000</td>\n",
       "      <td>4.000000</td>\n",
       "      <td>6.136997</td>\n",
       "    </tr>\n",
       "    <tr>\n",
       "      <th>50%</th>\n",
       "      <td>43.662539</td>\n",
       "      <td>-79.395460</td>\n",
       "      <td>4.000000</td>\n",
       "      <td>6.000000</td>\n",
       "      <td>7.692270</td>\n",
       "    </tr>\n",
       "    <tr>\n",
       "      <th>75%</th>\n",
       "      <td>43.680457</td>\n",
       "      <td>-79.378843</td>\n",
       "      <td>4.500000</td>\n",
       "      <td>13.000000</td>\n",
       "      <td>10.258139</td>\n",
       "    </tr>\n",
       "    <tr>\n",
       "      <th>max</th>\n",
       "      <td>43.844762</td>\n",
       "      <td>-51.833829</td>\n",
       "      <td>5.000000</td>\n",
       "      <td>530.000000</td>\n",
       "      <td>6547.408868</td>\n",
       "    </tr>\n",
       "  </tbody>\n",
       "</table>\n",
       "</div>"
      ],
      "text/plain": [
       "          latitude    longitude        stars  review_count     distance\n",
       "count  3738.000000  3738.000000  3738.000000   3738.000000  3738.000000\n",
       "mean     43.659746   -79.390947     3.702381     12.928571    10.215756\n",
       "std       0.863939     0.454143     0.979130     24.914754   107.032880\n",
       "min      -9.095137   -79.653939     1.000000      3.000000     0.043838\n",
       "25%      43.649911   -79.419545     3.000000      4.000000     6.136997\n",
       "50%      43.662539   -79.395460     4.000000      6.000000     7.692270\n",
       "75%      43.680457   -79.378843     4.500000     13.000000    10.258139\n",
       "max      43.844762   -51.833829     5.000000    530.000000  6547.408868"
      ]
     },
     "execution_count": 15,
     "metadata": {},
     "output_type": "execute_result"
    }
   ],
   "source": [
    "not_restaurant.describe()"
   ]
  },
  {
   "cell_type": "code",
   "execution_count": 16,
   "metadata": {},
   "outputs": [],
   "source": [
    "# Taking a copy of the non restaurant businesses \n",
    "not_restaurant.drop_duplicates(subset=['name'], keep=False)\n",
    "measure_1 = not_restaurant\n"
   ]
  },
  {
   "cell_type": "markdown",
   "metadata": {},
   "source": [
    "## Restaurant 1: 4.0 Rating"
   ]
  },
  {
   "cell_type": "code",
   "execution_count": 17,
   "metadata": {},
   "outputs": [],
   "source": [
    "measure_1 = measure_1.loc[not_restaurant['distance'] <=1.0]\n",
    "measure_1.describe()\n",
    "mean1 = measure_1['stars'].mean()"
   ]
  },
  {
   "cell_type": "code",
   "execution_count": 18,
   "metadata": {},
   "outputs": [
    {
     "ename": "KeyError",
     "evalue": "63",
     "output_type": "error",
     "traceback": [
      "\u001b[0;31m---------------------------------------------------------------------------\u001b[0m",
      "\u001b[0;31mKeyError\u001b[0m                                  Traceback (most recent call last)",
      "\u001b[0;32m<ipython-input-18-26de6567701e>\u001b[0m in \u001b[0;36m<module>\u001b[0;34m()\u001b[0m\n\u001b[1;32m      8\u001b[0m \u001b[0;31m# Create a bar with distances data,\u001b[0m\u001b[0;34m\u001b[0m\u001b[0;34m\u001b[0m\u001b[0m\n\u001b[1;32m      9\u001b[0m \u001b[0;31m# in position pos,\u001b[0m\u001b[0;34m\u001b[0m\u001b[0;34m\u001b[0m\u001b[0m\n\u001b[0;32m---> 10\u001b[0;31m \u001b[0mplt\u001b[0m\u001b[0;34m.\u001b[0m\u001b[0mbar\u001b[0m\u001b[0;34m(\u001b[0m\u001b[0mpos\u001b[0m\u001b[0;34m,\u001b[0m \u001b[0mmeasure_1\u001b[0m\u001b[0;34m[\u001b[0m\u001b[0;34m'distance'\u001b[0m\u001b[0;34m]\u001b[0m\u001b[0;34m,\u001b[0m \u001b[0mwidth\u001b[0m\u001b[0;34m,\u001b[0m \u001b[0malpha\u001b[0m\u001b[0;34m=\u001b[0m\u001b[0;36m0.5\u001b[0m\u001b[0;34m,\u001b[0m \u001b[0mcolor\u001b[0m\u001b[0;34m=\u001b[0m\u001b[0;34m'#EE3224'\u001b[0m\u001b[0;34m,\u001b[0m \u001b[0mlabel\u001b[0m\u001b[0;34m=\u001b[0m \u001b[0mmeasure_1\u001b[0m\u001b[0;34m[\u001b[0m\u001b[0;34m'name'\u001b[0m\u001b[0;34m]\u001b[0m\u001b[0;34m[\u001b[0m\u001b[0;36m63\u001b[0m\u001b[0;34m]\u001b[0m\u001b[0;34m)\u001b[0m\u001b[0;34m\u001b[0m\u001b[0m\n\u001b[0m\u001b[1;32m     11\u001b[0m \u001b[0;34m\u001b[0m\u001b[0m\n\u001b[1;32m     12\u001b[0m \u001b[0;31m# Set the y axis label\u001b[0m\u001b[0;34m\u001b[0m\u001b[0;34m\u001b[0m\u001b[0m\n",
      "\u001b[0;32m/usr/local/lib/python3.6/site-packages/pandas/core/series.py\u001b[0m in \u001b[0;36m__getitem__\u001b[0;34m(self, key)\u001b[0m\n\u001b[1;32m    599\u001b[0m         \u001b[0mkey\u001b[0m \u001b[0;34m=\u001b[0m \u001b[0mcom\u001b[0m\u001b[0;34m.\u001b[0m\u001b[0m_apply_if_callable\u001b[0m\u001b[0;34m(\u001b[0m\u001b[0mkey\u001b[0m\u001b[0;34m,\u001b[0m \u001b[0mself\u001b[0m\u001b[0;34m)\u001b[0m\u001b[0;34m\u001b[0m\u001b[0m\n\u001b[1;32m    600\u001b[0m         \u001b[0;32mtry\u001b[0m\u001b[0;34m:\u001b[0m\u001b[0;34m\u001b[0m\u001b[0m\n\u001b[0;32m--> 601\u001b[0;31m             \u001b[0mresult\u001b[0m \u001b[0;34m=\u001b[0m \u001b[0mself\u001b[0m\u001b[0;34m.\u001b[0m\u001b[0mindex\u001b[0m\u001b[0;34m.\u001b[0m\u001b[0mget_value\u001b[0m\u001b[0;34m(\u001b[0m\u001b[0mself\u001b[0m\u001b[0;34m,\u001b[0m \u001b[0mkey\u001b[0m\u001b[0;34m)\u001b[0m\u001b[0;34m\u001b[0m\u001b[0m\n\u001b[0m\u001b[1;32m    602\u001b[0m \u001b[0;34m\u001b[0m\u001b[0m\n\u001b[1;32m    603\u001b[0m             \u001b[0;32mif\u001b[0m \u001b[0;32mnot\u001b[0m \u001b[0mis_scalar\u001b[0m\u001b[0;34m(\u001b[0m\u001b[0mresult\u001b[0m\u001b[0;34m)\u001b[0m\u001b[0;34m:\u001b[0m\u001b[0;34m\u001b[0m\u001b[0m\n",
      "\u001b[0;32m/usr/local/lib/python3.6/site-packages/pandas/core/indexes/base.py\u001b[0m in \u001b[0;36mget_value\u001b[0;34m(self, series, key)\u001b[0m\n\u001b[1;32m   2475\u001b[0m         \u001b[0;32mtry\u001b[0m\u001b[0;34m:\u001b[0m\u001b[0;34m\u001b[0m\u001b[0m\n\u001b[1;32m   2476\u001b[0m             return self._engine.get_value(s, k,\n\u001b[0;32m-> 2477\u001b[0;31m                                           tz=getattr(series.dtype, 'tz', None))\n\u001b[0m\u001b[1;32m   2478\u001b[0m         \u001b[0;32mexcept\u001b[0m \u001b[0mKeyError\u001b[0m \u001b[0;32mas\u001b[0m \u001b[0me1\u001b[0m\u001b[0;34m:\u001b[0m\u001b[0;34m\u001b[0m\u001b[0m\n\u001b[1;32m   2479\u001b[0m             \u001b[0;32mif\u001b[0m \u001b[0mlen\u001b[0m\u001b[0;34m(\u001b[0m\u001b[0mself\u001b[0m\u001b[0;34m)\u001b[0m \u001b[0;34m>\u001b[0m \u001b[0;36m0\u001b[0m \u001b[0;32mand\u001b[0m \u001b[0mself\u001b[0m\u001b[0;34m.\u001b[0m\u001b[0minferred_type\u001b[0m \u001b[0;32min\u001b[0m \u001b[0;34m[\u001b[0m\u001b[0;34m'integer'\u001b[0m\u001b[0;34m,\u001b[0m \u001b[0;34m'boolean'\u001b[0m\u001b[0;34m]\u001b[0m\u001b[0;34m:\u001b[0m\u001b[0;34m\u001b[0m\u001b[0m\n",
      "\u001b[0;32mpandas/_libs/index.pyx\u001b[0m in \u001b[0;36mpandas._libs.index.IndexEngine.get_value (pandas/_libs/index.c:4404)\u001b[0;34m()\u001b[0m\n",
      "\u001b[0;32mpandas/_libs/index.pyx\u001b[0m in \u001b[0;36mpandas._libs.index.IndexEngine.get_value (pandas/_libs/index.c:4087)\u001b[0;34m()\u001b[0m\n",
      "\u001b[0;32mpandas/_libs/index.pyx\u001b[0m in \u001b[0;36mpandas._libs.index.IndexEngine.get_loc (pandas/_libs/index.c:5126)\u001b[0;34m()\u001b[0m\n",
      "\u001b[0;32mpandas/_libs/hashtable_class_helper.pxi\u001b[0m in \u001b[0;36mpandas._libs.hashtable.Int64HashTable.get_item (pandas/_libs/hashtable.c:14031)\u001b[0;34m()\u001b[0m\n",
      "\u001b[0;32mpandas/_libs/hashtable_class_helper.pxi\u001b[0m in \u001b[0;36mpandas._libs.hashtable.Int64HashTable.get_item (pandas/_libs/hashtable.c:13975)\u001b[0;34m()\u001b[0m\n",
      "\u001b[0;31mKeyError\u001b[0m: 63"
     ]
    },
    {
     "data": {
      "image/png": "[encoded data removed]",
      "text/plain": [
       "<matplotlib.figure.Figure at 0x10a840978>"
      ]
     },
     "metadata": {},
     "output_type": "display_data"
    }
   ],
   "source": [
    "# Setting the positions and width for the bars\n",
    "pos = list(range(len(measure_1['distance']))) \n",
    "width = 0.25 \n",
    "\n",
    "# Plotting the bars\n",
    "fig, ax = plt.subplots(figsize=(25,10))\n",
    "\n",
    "# Create a bar with distances data,\n",
    "# in position pos,\n",
    "plt.bar(pos, measure_1['distance'], width, alpha=0.5, color='#EE3224', label= measure_1['name'][63]) \n",
    "\n",
    "# Set the y axis label\n",
    "ax.set_ylabel('Non-Restaurant Businesses')\n",
    "\n",
    "# Set the x axis label\n",
    "ax.set_xlabel('Distance from Restaurant')\n",
    "\n",
    "# Set the chart's title\n",
    "ax.set_title('Distances of Non-Restaurant Businesses from Restaurant')\n",
    "\n",
    "plt.grid()\n",
    "plt.show()"
   ]
  },
  {
   "cell_type": "markdown",
   "metadata": {},
   "source": [
    "The Coupled Bar Plot above shows the distances of all the non-restaurant businesses that are within 0.2 km of the chosen restaurant. We can see that most businesses are around 0.2km away from the restaurant. There are in total 16 non-business restaurants near the McCarthy Irish Pub - a 4.0 rating business. We can get the density of the area to be:\n",
    "\n",
    "                                 density ~ 16/0.79\n",
    "                                         ~ 20.253164557 businesses/sq km\n",
    "                                         \n",
    "               \n"
   ]
  },
  {
   "cell_type": "code",
   "execution_count": null,
   "metadata": {},
   "outputs": [],
   "source": [
    "sns.factorplot(x='stars', kind ='count',data = measure_1, palette = 'winter_d',\n",
    "               size = 8.5)\n",
    "sns.set_style('darkgrid')"
   ]
  },
  {
   "cell_type": "markdown",
   "metadata": {},
   "source": [
    "31% of the businesses have low ratings. 37.8% have average rating and 31.2% have excellent ratings."
   ]
  },
  {
   "cell_type": "markdown",
   "metadata": {},
   "source": [
    "## Restaurant 2:  Gabby's Roncesvalles - 2.5 Rating\n"
   ]
  },
  {
   "cell_type": "code",
   "execution_count": null,
   "metadata": {},
   "outputs": [],
   "source": [
    "## Getting the next Pub in Toronto:\n",
    "\n",
    "x = pd.DataFrame()\n",
    "for lst in is_restaurant['categories']:\n",
    "    if \"u'Pubs'\" in lst:\n",
    "        x = x.append(is_restaurant[is_restaurant['categories'] == lst])\n",
    "\n",
    "x = x.loc[x['stars'] < 3.0].head()\n",
    "restaurant_df = x.iloc[[0]]\n",
    "restaurant_df"
   ]
  },
  {
   "cell_type": "code",
   "execution_count": null,
   "metadata": {},
   "outputs": [],
   "source": [
    "## Applying the Haversine formula (inspired by StackOverflow Suggestions):\n",
    "\n",
    "\n",
    "df = pd.DataFrame()\n",
    "\n",
    "df['LAT_rad'], df['LON_rad'] = np.radians(not_restaurant['latitude']), np.radians(not_restaurant['longitude'])\n",
    "df['dLON'] = df['LON_rad'] - math.radians(restaurant_df['longitude'])\n",
    "df['dLAT'] = df['LAT_rad'] - math.radians(restaurant_df['latitude'])\n",
    "\n",
    "# using heaversine's formula:\n",
    "not_restaurant['distance'] = 6367 * 2 * np.arcsin(np.sqrt(np.sin(df['dLAT']/2)**2 + math.cos(math.radians(37.2175900)) * np.cos(df['LAT_rad']) * np.sin(df['dLON']/2)**2))\n",
    "not_restaurant = not_restaurant.drop_duplicates(subset=['name','postal_code','review_count', 'distance'], keep=False)"
   ]
  },
  {
   "cell_type": "code",
   "execution_count": null,
   "metadata": {
    "scrolled": true
   },
   "outputs": [],
   "source": [
    "## Getting all the non-restaurant businesses with the distances calculated\n",
    "not_restaurant.head()"
   ]
  },
  {
   "cell_type": "code",
   "execution_count": null,
   "metadata": {
    "scrolled": true
   },
   "outputs": [],
   "source": [
    "## Removing duplicates if any \n",
    "not_restaurant.drop_duplicates(subset=['name', 'postal_code', 'latitude'], keep=False)\n",
    "df_2 = not_restaurant\n",
    "df_2 = df_2.loc[df_2['distance'] <= 0.5]\n",
    "\n",
    "df_2.describe()\n"
   ]
  },
  {
   "cell_type": "code",
   "execution_count": null,
   "metadata": {
    "scrolled": true
   },
   "outputs": [],
   "source": [
    "measure_2 = df_2\n",
    "# Setting the positions and width for the bars\n",
    "pos = list(range(len(measure_2['distance']))) \n",
    "width = 0.25 \n",
    "\n",
    "# Plotting the bars\n",
    "fig, ax = plt.subplots(figsize=(25,10))\n",
    "\n",
    "# Create a bar with distances data,\n",
    "# in position pos,\n",
    "plt.bar(pos, measure_2['distance'], width, alpha=0.5, color='#EE3224', label= measure_2['name'][63]) \n",
    "\n",
    "# Set the y axis label\n",
    "ax.set_ylabel('Non-Restaurant Businesses')\n",
    "\n",
    "# Set the x axis label\n",
    "ax.set_xlabel('Distance from Restaurant')\n",
    "\n",
    "# Set the chart's title\n",
    "ax.set_title('Distances of Non-Restaurant Businesses from Restaurant')\n",
    "\n",
    "plt.grid()\n",
    "plt.show()"
   ]
  },
  {
   "cell_type": "markdown",
   "metadata": {},
   "source": [
    "The Coupled Bar Plot above shows the distances of all the non-restaurant businesses that are within 0.5 km of the chosen restaurant. We can see that most businesses are around 0.2km away from the restaurant. There are in total 19 non-business restaurants near the Gabby's Roncesvalles Pub - a 2.5 rating business. We can get the density of the area to be:\n",
    "\n",
    "                             density ~ 19/3.14159\n",
    "                                     ~ 24.050632911 businesses/sq km\n",
    "\n",
    "The 2.5 star restaurant has the exact same density as the 4.0 one\n",
    "                                     "
   ]
  },
  {
   "cell_type": "code",
   "execution_count": null,
   "metadata": {},
   "outputs": [],
   "source": [
    "sns.factorplot(x='stars', kind ='count',data = measure_2, palette = 'winter_d',\n",
    "               size = 8.5)\n",
    "sns.set_style('darkgrid')"
   ]
  },
  {
   "cell_type": "markdown",
   "metadata": {},
   "source": [
    "We see that despite haveing a low rating of 2.0, the surrounding businesses have an average high rating of 4.5. Only 10% of the businesses have a 3.0 and lower rating. 57.8% have an average rating and 37% have excellent ratings. Note though that this is a an equally high density area."
   ]
  },
  {
   "cell_type": "markdown",
   "metadata": {},
   "source": [
    "\n",
    "## Restaurant 3:  Wychwood Pub 2.0 Rating "
   ]
  },
  {
   "cell_type": "code",
   "execution_count": null,
   "metadata": {},
   "outputs": [],
   "source": [
    "## Getting the next Pub in Toronto:\n",
    "\n",
    "x = pd.DataFrame()\n",
    "for lst in is_restaurant['categories']:\n",
    "    if \"u'Pubs'\" in lst:\n",
    "        x = x.append(is_restaurant[is_restaurant['categories'] == lst])\n",
    "\n",
    "x.describe()\n",
    "#x = x.loc[x['stars'] < 3.0].head()\n",
    "#restaurant_df = x.iloc[[1]]\n",
    "#restaurant_df"
   ]
  },
  {
   "cell_type": "code",
   "execution_count": null,
   "metadata": {},
   "outputs": [],
   "source": [
    "## Applying the Haversine formula:\n",
    "\n",
    "\n",
    "df = pd.DataFrame()\n",
    "\n",
    "df['LAT_rad'], df['LON_rad'] = np.radians(not_restaurant['latitude']), np.radians(not_restaurant['longitude'])\n",
    "df['dLON'] = df['LON_rad'] - math.radians(restaurant_df['longitude'])\n",
    "df['dLAT'] = df['LAT_rad'] - math.radians(restaurant_df['latitude'])\n",
    "\n",
    "# using heaversine's formula:\n",
    "not_restaurant['distance'] = 6367 * 2 * np.arcsin(np.sqrt(np.sin(df['dLAT']/2)**2 + math.cos(math.radians(37.2175900)) * np.cos(df['LAT_rad']) * np.sin(df['dLON']/2)**2))\n",
    "not_restaurant = not_restaurant.drop_duplicates(subset=['name','postal_code','review_count', 'distance'], keep=False)"
   ]
  },
  {
   "cell_type": "code",
   "execution_count": null,
   "metadata": {},
   "outputs": [],
   "source": [
    "## Removing duplicates if any \n",
    "not_restaurant.drop_duplicates(subset=['name', 'postal_code', 'latitude'], keep=False)\n",
    "df_3 = not_restaurant\n",
    "df_3 = df_3.loc[df_3['distance'] <= 0.5]\n",
    "\n",
    "df_3.describe()\n"
   ]
  },
  {
   "cell_type": "code",
   "execution_count": null,
   "metadata": {},
   "outputs": [],
   "source": [
    "measure_3 = df_3\n",
    "# Setting the positions and width for the bars\n",
    "pos = list(range(len(measure_3['distance']))) \n",
    "width = 0.25 \n",
    "\n",
    "# Plotting the bars\n",
    "fig, ax = plt.subplots(figsize=(25,10))\n",
    "\n",
    "# Create a bar with distances data,\n",
    "# in position pos,\n",
    "plt.bar(pos, measure_3['distance'], width, alpha=0.5, color='#EE3224', label= measure_3['name'][ 29841]) \n",
    "\n",
    "# Set the y axis label\n",
    "ax.set_ylabel('Non-Restaurant Businesses')\n",
    "\n",
    "# Set the x axis label\n",
    "ax.set_xlabel('Distance from Restaurant')\n",
    "\n",
    "# Set the chart's title\n",
    "ax.set_title('Distances of Non-Restaurant Businesses from Restaurant')\n",
    "\n",
    "plt.grid()\n",
    "plt.show()"
   ]
  },
  {
   "cell_type": "markdown",
   "metadata": {},
   "source": [
    "The Coupled Bar Plot above shows the distances of all the non-restaurant businesses that are within 0.2 km of the chosen restaurant. We can see that most businesses are around 0.2km away from the restaurant. There are in total 16 non-business restaurants near the Gabby's Roncesvalles Pub - a 2.5 rating business. We can get the density of the area to be:\n",
    "\n",
    "                             density ~ 19/3.14159\n",
    "                                     ~ 20.253164557 businesses/sq km\n",
    "\n",
    "The 2.0 star restaurant has a slightly lower density as the 4.0 one\n",
    "                                     "
   ]
  },
  {
   "cell_type": "code",
   "execution_count": null,
   "metadata": {},
   "outputs": [],
   "source": [
    "sns.factorplot(x='stars', kind ='count',data = measure_3, palette = 'winter_d',\n",
    "               size = 8.5)\n",
    "sns.set_style('darkgrid')"
   ]
  },
  {
   "cell_type": "markdown",
   "metadata": {},
   "source": [
    "In this lower density area, out of 16 businesses, 31% of the businesses have a 3.0 and lower rating. 37% of the businesses have an average rating while 31% have a high rating. While there is presence of high rating businesses, the proportion of it has reduced and the ratio of low quality businesses have increased. "
   ]
  },
  {
   "cell_type": "markdown",
   "metadata": {},
   "source": [
    "## Summary - Pubs:\n"
   ]
  },
  {
   "cell_type": "markdown",
   "metadata": {},
   "source": [
    "Pubs across 3 areas in Toronto are compared. It is seen that 75% of the pubs have an overall higher rating of 4.0. \n",
    "\n",
    "1. When the pub has a high rating of 4.0 and density is 20 businesses/ sqkm: The % of lower rated businesses are higher(~31%)\n",
    "2. When the pub has poor rating (2.0) and density is 20 businesses per sqkm: The % of lower rated businesses are higher (~31%)\n",
    "3. When the pub has a poor rating of 2.5 and the density is higher with 25 businesses/sqkm: The % of lower rated businesses is only 10%. "
   ]
  },
  {
   "cell_type": "code",
   "execution_count": null,
   "metadata": {},
   "outputs": [],
   "source": [
    "not_restaurant.to_csv('not_restaurant.csv')"
   ]
  },
  {
   "cell_type": "code",
   "execution_count": null,
   "metadata": {},
   "outputs": [],
   "source": [
    "is_restaurant.describe()"
   ]
  },
  {
   "cell_type": "code",
   "execution_count": null,
   "metadata": {},
   "outputs": [],
   "source": [
    "pubs_df = pd.DataFrame()\n",
    "for lst in is_restaurant['categories']:\n",
    "    if \"u'Pubs'\" in lst:\n",
    "        pubs_df = pubs_df.append(is_restaurant[is_restaurant['categories'] == lst])\n",
    "\n",
    "#x.describe()\n",
    "#x = x.loc[x['stars'] < 3.0].head()\n",
    "#restaurant_df = x.iloc[[1]]\n",
    "#restaurant_df"
   ]
  },
  {
   "cell_type": "code",
   "execution_count": null,
   "metadata": {},
   "outputs": [],
   "source": [
    "pubs_df.to_csv('pubs.csv')"
   ]
  },
  {
   "cell_type": "code",
   "execution_count": null,
   "metadata": {},
   "outputs": [],
   "source": []
  },
  {
   "cell_type": "code",
   "execution_count": null,
   "metadata": {},
   "outputs": [],
   "source": []
  },
  {
   "cell_type": "code",
   "execution_count": null,
   "metadata": {},
   "outputs": [],
   "source": []
  },
  {
   "cell_type": "code",
   "execution_count": null,
   "metadata": {},
   "outputs": [],
   "source": []
  },
  {
   "cell_type": "code",
   "execution_count": null,
   "metadata": {},
   "outputs": [],
   "source": []
  },
  {
   "cell_type": "code",
   "execution_count": null,
   "metadata": {},
   "outputs": [],
   "source": []
  },
  {
   "cell_type": "code",
   "execution_count": null,
   "metadata": {},
   "outputs": [],
   "source": []
  },
  {
   "cell_type": "code",
   "execution_count": null,
   "metadata": {},
   "outputs": [],
   "source": []
  },
  {
   "cell_type": "code",
   "execution_count": null,
   "metadata": {},
   "outputs": [],
   "source": []
  },
  {
   "cell_type": "code",
   "execution_count": null,
   "metadata": {},
   "outputs": [],
   "source": []
  },
  {
   "cell_type": "code",
   "execution_count": null,
   "metadata": {},
   "outputs": [],
   "source": []
  },
  {
   "cell_type": "code",
   "execution_count": null,
   "metadata": {},
   "outputs": [],
   "source": []
  },
  {
   "cell_type": "code",
   "execution_count": null,
   "metadata": {},
   "outputs": [],
   "source": []
  },
  {
   "cell_type": "code",
   "execution_count": null,
   "metadata": {},
   "outputs": [],
   "source": []
  },
  {
   "cell_type": "code",
   "execution_count": null,
   "metadata": {},
   "outputs": [],
   "source": []
  },
  {
   "cell_type": "code",
   "execution_count": null,
   "metadata": {},
   "outputs": [],
   "source": []
  },
  {
   "cell_type": "code",
   "execution_count": null,
   "metadata": {},
   "outputs": [],
   "source": []
  },
  {
   "cell_type": "code",
   "execution_count": null,
   "metadata": {},
   "outputs": [],
   "source": []
  },
  {
   "cell_type": "code",
   "execution_count": null,
   "metadata": {},
   "outputs": [],
   "source": []
  },
  {
   "cell_type": "code",
   "execution_count": null,
   "metadata": {},
   "outputs": [],
   "source": []
  },
  {
   "cell_type": "code",
   "execution_count": null,
   "metadata": {},
   "outputs": [],
   "source": []
  },
  {
   "cell_type": "code",
   "execution_count": null,
   "metadata": {},
   "outputs": [],
   "source": []
  },
  {
   "cell_type": "code",
   "execution_count": null,
   "metadata": {},
   "outputs": [],
   "source": []
  },
  {
   "cell_type": "code",
   "execution_count": null,
   "metadata": {},
   "outputs": [],
   "source": []
  },
  {
   "cell_type": "code",
   "execution_count": null,
   "metadata": {},
   "outputs": [],
   "source": []
  },
  {
   "cell_type": "code",
   "execution_count": null,
   "metadata": {},
   "outputs": [],
   "source": []
  },
  {
   "cell_type": "code",
   "execution_count": null,
   "metadata": {},
   "outputs": [],
   "source": []
  },
  {
   "cell_type": "code",
   "execution_count": null,
   "metadata": {},
   "outputs": [],
   "source": []
  },
  {
   "cell_type": "code",
   "execution_count": null,
   "metadata": {},
   "outputs": [],
   "source": []
  },
  {
   "cell_type": "code",
   "execution_count": null,
   "metadata": {},
   "outputs": [],
   "source": []
  },
  {
   "cell_type": "code",
   "execution_count": null,
   "metadata": {},
   "outputs": [],
   "source": []
  },
  {
   "cell_type": "code",
   "execution_count": null,
   "metadata": {},
   "outputs": [],
   "source": []
  },
  {
   "cell_type": "code",
   "execution_count": null,
   "metadata": {},
   "outputs": [],
   "source": []
  },
  {
   "cell_type": "code",
   "execution_count": null,
   "metadata": {},
   "outputs": [],
   "source": []
  },
  {
   "cell_type": "code",
   "execution_count": null,
   "metadata": {},
   "outputs": [],
   "source": []
  },
  {
   "cell_type": "code",
   "execution_count": null,
   "metadata": {},
   "outputs": [],
   "source": []
  },
  {
   "cell_type": "code",
   "execution_count": null,
   "metadata": {},
   "outputs": [],
   "source": []
  },
  {
   "cell_type": "code",
   "execution_count": null,
   "metadata": {},
   "outputs": [],
   "source": []
  },
  {
   "cell_type": "code",
   "execution_count": null,
   "metadata": {},
   "outputs": [],
   "source": []
  },
  {
   "cell_type": "code",
   "execution_count": null,
   "metadata": {},
   "outputs": [],
   "source": []
  },
  {
   "cell_type": "code",
   "execution_count": null,
   "metadata": {},
   "outputs": [],
   "source": []
  },
  {
   "cell_type": "code",
   "execution_count": null,
   "metadata": {},
   "outputs": [],
   "source": []
  },
  {
   "cell_type": "code",
   "execution_count": null,
   "metadata": {},
   "outputs": [],
   "source": []
  },
  {
   "cell_type": "code",
   "execution_count": null,
   "metadata": {},
   "outputs": [],
   "source": []
  },
  {
   "cell_type": "code",
   "execution_count": null,
   "metadata": {},
   "outputs": [],
   "source": []
  },
  {
   "cell_type": "code",
   "execution_count": null,
   "metadata": {},
   "outputs": [],
   "source": []
  },
  {
   "cell_type": "code",
   "execution_count": null,
   "metadata": {},
   "outputs": [],
   "source": []
  },
  {
   "cell_type": "code",
   "execution_count": null,
   "metadata": {},
   "outputs": [],
   "source": []
  },
  {
   "cell_type": "code",
   "execution_count": null,
   "metadata": {},
   "outputs": [],
   "source": []
  },
  {
   "cell_type": "code",
   "execution_count": null,
   "metadata": {},
   "outputs": [],
   "source": []
  },
  {
   "cell_type": "code",
   "execution_count": null,
   "metadata": {},
   "outputs": [],
   "source": []
  },
  {
   "cell_type": "code",
   "execution_count": null,
   "metadata": {},
   "outputs": [],
   "source": []
  },
  {
   "cell_type": "code",
   "execution_count": null,
   "metadata": {},
   "outputs": [],
   "source": []
  },
  {
   "cell_type": "code",
   "execution_count": null,
   "metadata": {},
   "outputs": [],
   "source": []
  },
  {
   "cell_type": "code",
   "execution_count": null,
   "metadata": {},
   "outputs": [],
   "source": []
  },
  {
   "cell_type": "code",
   "execution_count": null,
   "metadata": {},
   "outputs": [],
   "source": []
  },
  {
   "cell_type": "code",
   "execution_count": null,
   "metadata": {},
   "outputs": [],
   "source": []
  },
  {
   "cell_type": "code",
   "execution_count": null,
   "metadata": {},
   "outputs": [],
   "source": []
  },
  {
   "cell_type": "code",
   "execution_count": null,
   "metadata": {},
   "outputs": [],
   "source": []
  },
  {
   "cell_type": "code",
   "execution_count": null,
   "metadata": {},
   "outputs": [],
   "source": []
  },
  {
   "cell_type": "code",
   "execution_count": null,
   "metadata": {},
   "outputs": [],
   "source": []
  },
  {
   "cell_type": "code",
   "execution_count": null,
   "metadata": {},
   "outputs": [],
   "source": []
  },
  {
   "cell_type": "code",
   "execution_count": null,
   "metadata": {},
   "outputs": [],
   "source": []
  },
  {
   "cell_type": "code",
   "execution_count": null,
   "metadata": {},
   "outputs": [],
   "source": []
  },
  {
   "cell_type": "code",
   "execution_count": null,
   "metadata": {},
   "outputs": [],
   "source": []
  },
  {
   "cell_type": "code",
   "execution_count": null,
   "metadata": {},
   "outputs": [],
   "source": []
  },
  {
   "cell_type": "code",
   "execution_count": null,
   "metadata": {},
   "outputs": [],
   "source": []
  },
  {
   "cell_type": "code",
   "execution_count": null,
   "metadata": {},
   "outputs": [],
   "source": []
  },
  {
   "cell_type": "code",
   "execution_count": null,
   "metadata": {},
   "outputs": [],
   "source": []
  },
  {
   "cell_type": "code",
   "execution_count": null,
   "metadata": {},
   "outputs": [],
   "source": []
  },
  {
   "cell_type": "code",
   "execution_count": null,
   "metadata": {},
   "outputs": [],
   "source": []
  },
  {
   "cell_type": "code",
   "execution_count": null,
   "metadata": {},
   "outputs": [],
   "source": []
  },
  {
   "cell_type": "code",
   "execution_count": null,
   "metadata": {},
   "outputs": [],
   "source": []
  },
  {
   "cell_type": "code",
   "execution_count": null,
   "metadata": {},
   "outputs": [],
   "source": []
  },
  {
   "cell_type": "code",
   "execution_count": null,
   "metadata": {},
   "outputs": [],
   "source": []
  },
  {
   "cell_type": "code",
   "execution_count": null,
   "metadata": {},
   "outputs": [],
   "source": []
  },
  {
   "cell_type": "code",
   "execution_count": null,
   "metadata": {},
   "outputs": [],
   "source": []
  },
  {
   "cell_type": "code",
   "execution_count": null,
   "metadata": {},
   "outputs": [],
   "source": []
  },
  {
   "cell_type": "code",
   "execution_count": null,
   "metadata": {},
   "outputs": [],
   "source": []
  },
  {
   "cell_type": "code",
   "execution_count": null,
   "metadata": {},
   "outputs": [],
   "source": []
  },
  {
   "cell_type": "code",
   "execution_count": null,
   "metadata": {},
   "outputs": [],
   "source": []
  },
  {
   "cell_type": "code",
   "execution_count": null,
   "metadata": {},
   "outputs": [],
   "source": []
  },
  {
   "cell_type": "code",
   "execution_count": null,
   "metadata": {},
   "outputs": [],
   "source": []
  },
  {
   "cell_type": "code",
   "execution_count": null,
   "metadata": {},
   "outputs": [],
   "source": []
  },
  {
   "cell_type": "code",
   "execution_count": null,
   "metadata": {},
   "outputs": [],
   "source": []
  },
  {
   "cell_type": "code",
   "execution_count": null,
   "metadata": {},
   "outputs": [],
   "source": []
  },
  {
   "cell_type": "code",
   "execution_count": null,
   "metadata": {},
   "outputs": [],
   "source": []
  },
  {
   "cell_type": "code",
   "execution_count": null,
   "metadata": {},
   "outputs": [],
   "source": []
  },
  {
   "cell_type": "code",
   "execution_count": null,
   "metadata": {},
   "outputs": [],
   "source": []
  },
  {
   "cell_type": "code",
   "execution_count": null,
   "metadata": {},
   "outputs": [],
   "source": []
  },
  {
   "cell_type": "code",
   "execution_count": null,
   "metadata": {},
   "outputs": [],
   "source": []
  },
  {
   "cell_type": "code",
   "execution_count": null,
   "metadata": {},
   "outputs": [],
   "source": []
  },
  {
   "cell_type": "code",
   "execution_count": null,
   "metadata": {},
   "outputs": [],
   "source": []
  },
  {
   "cell_type": "code",
   "execution_count": null,
   "metadata": {},
   "outputs": [],
   "source": []
  },
  {
   "cell_type": "code",
   "execution_count": null,
   "metadata": {},
   "outputs": [],
   "source": []
  },
  {
   "cell_type": "code",
   "execution_count": null,
   "metadata": {},
   "outputs": [],
   "source": []
  },
  {
   "cell_type": "code",
   "execution_count": null,
   "metadata": {},
   "outputs": [],
   "source": []
  }
 ],
 "metadata": {
  "kernelspec": {
   "display_name": "Python 3",
   "language": "python",
   "name": "python3"
  },
  "language_info": {
   "codemirror_mode": {
    "name": "ipython",
    "version": 3
   },
   "file_extension": ".py",
   "mimetype": "text/x-python",
   "name": "python",
   "nbconvert_exporter": "python",
   "pygments_lexer": "ipython3",
   "version": "3.6.3"
  }
 },
 "nbformat": 4,
 "nbformat_minor": 2
}
