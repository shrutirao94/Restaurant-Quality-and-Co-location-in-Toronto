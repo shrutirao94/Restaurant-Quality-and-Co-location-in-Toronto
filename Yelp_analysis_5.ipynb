{
 "cells": [
  {
   "cell_type": "code",
   "execution_count": 51,
   "metadata": {},
   "outputs": [],
   "source": [
    "import csv\n",
    "import pandas as pd\n",
    "import numpy as np\n",
    "import pandas as pd\n",
    "import seaborn as sns\n",
    "import operator #need this for sorting dicts later\n",
    "import matplotlib.cm as cm #for colormapping later\n",
    "from matplotlib.colors import LogNorm\n",
    "import matplotlib as mpl\n",
    "import matplotlib.pyplot as plt\n",
    "import math\n",
    "%matplotlib inline"
   ]
  },
  {
   "cell_type": "code",
   "execution_count": 52,
   "metadata": {},
   "outputs": [
    {
     "data": {
      "text/html": [
       "<div>\n",
       "<style>\n",
       "    .dataframe thead tr:only-child th {\n",
       "        text-align: right;\n",
       "    }\n",
       "\n",
       "    .dataframe thead th {\n",
       "        text-align: left;\n",
       "    }\n",
       "\n",
       "    .dataframe tbody tr th {\n",
       "        vertical-align: top;\n",
       "    }\n",
       "</style>\n",
       "<table border=\"1\" class=\"dataframe\">\n",
       "  <thead>\n",
       "    <tr style=\"text-align: right;\">\n",
       "      <th></th>\n",
       "      <th>density</th>\n",
       "      <th>mean_business_rating</th>\n",
       "      <th>rating</th>\n",
       "    </tr>\n",
       "  </thead>\n",
       "  <tbody>\n",
       "    <tr>\n",
       "      <th>count</th>\n",
       "      <td>349.000000</td>\n",
       "      <td>346.000000</td>\n",
       "      <td>349.000000</td>\n",
       "    </tr>\n",
       "    <tr>\n",
       "      <th>mean</th>\n",
       "      <td>29.915201</td>\n",
       "      <td>3.749797</td>\n",
       "      <td>3.459885</td>\n",
       "    </tr>\n",
       "    <tr>\n",
       "      <th>std</th>\n",
       "      <td>23.738332</td>\n",
       "      <td>0.172239</td>\n",
       "      <td>0.602768</td>\n",
       "    </tr>\n",
       "    <tr>\n",
       "      <th>min</th>\n",
       "      <td>0.000000</td>\n",
       "      <td>3.000000</td>\n",
       "      <td>2.000000</td>\n",
       "    </tr>\n",
       "    <tr>\n",
       "      <th>25%</th>\n",
       "      <td>10.663381</td>\n",
       "      <td>3.670957</td>\n",
       "      <td>3.000000</td>\n",
       "    </tr>\n",
       "    <tr>\n",
       "      <th>50%</th>\n",
       "      <td>21.645072</td>\n",
       "      <td>3.716867</td>\n",
       "      <td>3.500000</td>\n",
       "    </tr>\n",
       "    <tr>\n",
       "      <th>75%</th>\n",
       "      <td>47.269018</td>\n",
       "      <td>3.860440</td>\n",
       "      <td>4.000000</td>\n",
       "    </tr>\n",
       "    <tr>\n",
       "      <th>max</th>\n",
       "      <td>82.283106</td>\n",
       "      <td>4.500000</td>\n",
       "      <td>4.500000</td>\n",
       "    </tr>\n",
       "  </tbody>\n",
       "</table>\n",
       "</div>"
      ],
      "text/plain": [
       "          density  mean_business_rating      rating\n",
       "count  349.000000            346.000000  349.000000\n",
       "mean    29.915201              3.749797    3.459885\n",
       "std     23.738332              0.172239    0.602768\n",
       "min      0.000000              3.000000    2.000000\n",
       "25%     10.663381              3.670957    3.000000\n",
       "50%     21.645072              3.716867    3.500000\n",
       "75%     47.269018              3.860440    4.000000\n",
       "max     82.283106              4.500000    4.500000"
      ]
     },
     "execution_count": 52,
     "metadata": {},
     "output_type": "execute_result"
    }
   ],
   "source": [
    "#pubs_df = pd.read_csv('pubs.csv')\n",
    "#not_restaurant_df = pd.read_csv('not_restaurant.csv')\n",
    "#pubs_df = pubs_df.drop(['city','Unnamed: 0'], 1)\n",
    "#not_restaurant_df = not_restaurant_df.drop(['Unnamed: 0','city','distance'], 1)\n",
    "final_df = pd.read_csv(\"table2.csv\")\n",
    "final_df = final_df.drop(['Unnamed: 0'], 1)\n",
    "final_df.describe()"
   ]
  },
  {
   "cell_type": "markdown",
   "metadata": {},
   "source": [
    "low density - everything <= 15 businesses\n",
    "high density - everything >35"
   ]
  },
  {
   "cell_type": "code",
   "execution_count": 53,
   "metadata": {},
   "outputs": [
    {
     "data": {
      "text/html": [
       "<div>\n",
       "<style>\n",
       "    .dataframe thead tr:only-child th {\n",
       "        text-align: right;\n",
       "    }\n",
       "\n",
       "    .dataframe thead th {\n",
       "        text-align: left;\n",
       "    }\n",
       "\n",
       "    .dataframe tbody tr th {\n",
       "        vertical-align: top;\n",
       "    }\n",
       "</style>\n",
       "<table border=\"1\" class=\"dataframe\">\n",
       "  <thead>\n",
       "    <tr style=\"text-align: right;\">\n",
       "      <th></th>\n",
       "      <th>density</th>\n",
       "      <th>mean_business_rating</th>\n",
       "      <th>name</th>\n",
       "      <th>rating</th>\n",
       "    </tr>\n",
       "  </thead>\n",
       "  <tbody>\n",
       "    <tr>\n",
       "      <th>1</th>\n",
       "      <td>3.819719</td>\n",
       "      <td>3.895833</td>\n",
       "      <td>Boardwalk Place</td>\n",
       "      <td>3.0</td>\n",
       "    </tr>\n",
       "    <tr>\n",
       "      <th>8</th>\n",
       "      <td>1.591549</td>\n",
       "      <td>4.100000</td>\n",
       "      <td>McSorley's Wonderful Saloon &amp; Grill</td>\n",
       "      <td>3.5</td>\n",
       "    </tr>\n",
       "    <tr>\n",
       "      <th>80</th>\n",
       "      <td>0.000000</td>\n",
       "      <td>NaN</td>\n",
       "      <td>Sofi's Mexican Bar &amp; Grill</td>\n",
       "      <td>4.0</td>\n",
       "    </tr>\n",
       "    <tr>\n",
       "      <th>108</th>\n",
       "      <td>0.159155</td>\n",
       "      <td>4.500000</td>\n",
       "      <td>The Irish Shebeen</td>\n",
       "      <td>3.5</td>\n",
       "    </tr>\n",
       "    <tr>\n",
       "      <th>124</th>\n",
       "      <td>1.909859</td>\n",
       "      <td>3.000000</td>\n",
       "      <td>6th Street Pub N Grill</td>\n",
       "      <td>3.5</td>\n",
       "    </tr>\n",
       "  </tbody>\n",
       "</table>\n",
       "</div>"
      ],
      "text/plain": [
       "      density  mean_business_rating                                 name  \\\n",
       "1    3.819719              3.895833                      Boardwalk Place   \n",
       "8    1.591549              4.100000  McSorley's Wonderful Saloon & Grill   \n",
       "80   0.000000                   NaN           Sofi's Mexican Bar & Grill   \n",
       "108  0.159155              4.500000                    The Irish Shebeen   \n",
       "124  1.909859              3.000000               6th Street Pub N Grill   \n",
       "\n",
       "     rating  \n",
       "1       3.0  \n",
       "8       3.5  \n",
       "80      4.0  \n",
       "108     3.5  \n",
       "124     3.5  "
      ]
     },
     "execution_count": 53,
     "metadata": {},
     "output_type": "execute_result"
    }
   ],
   "source": [
    "low_density_df = pd.DataFrame()\n",
    "low_density_df = final_df.loc[final_df['density'] <= 5]\n",
    "low_density_df.head()"
   ]
  },
  {
   "cell_type": "code",
   "execution_count": 71,
   "metadata": {},
   "outputs": [
    {
     "data": {
      "text/html": [
       "<div>\n",
       "<style>\n",
       "    .dataframe thead tr:only-child th {\n",
       "        text-align: right;\n",
       "    }\n",
       "\n",
       "    .dataframe thead th {\n",
       "        text-align: left;\n",
       "    }\n",
       "\n",
       "    .dataframe tbody tr th {\n",
       "        vertical-align: top;\n",
       "    }\n",
       "</style>\n",
       "<table border=\"1\" class=\"dataframe\">\n",
       "  <thead>\n",
       "    <tr style=\"text-align: right;\">\n",
       "      <th></th>\n",
       "      <th>density</th>\n",
       "      <th>mean_business_rating</th>\n",
       "      <th>name</th>\n",
       "      <th>rating</th>\n",
       "    </tr>\n",
       "  </thead>\n",
       "  <tbody>\n",
       "    <tr>\n",
       "      <th>7</th>\n",
       "      <td>72.574654</td>\n",
       "      <td>3.632675</td>\n",
       "      <td>The 3 Brewers</td>\n",
       "      <td>3.0</td>\n",
       "    </tr>\n",
       "    <tr>\n",
       "      <th>9</th>\n",
       "      <td>47.269018</td>\n",
       "      <td>3.698653</td>\n",
       "      <td>The Blake House</td>\n",
       "      <td>4.0</td>\n",
       "    </tr>\n",
       "    <tr>\n",
       "      <th>11</th>\n",
       "      <td>71.619724</td>\n",
       "      <td>3.618889</td>\n",
       "      <td>Duke of Richmond</td>\n",
       "      <td>3.5</td>\n",
       "    </tr>\n",
       "    <tr>\n",
       "      <th>12</th>\n",
       "      <td>47.269018</td>\n",
       "      <td>3.698653</td>\n",
       "      <td>The Blake House</td>\n",
       "      <td>4.0</td>\n",
       "    </tr>\n",
       "    <tr>\n",
       "      <th>14</th>\n",
       "      <td>71.619724</td>\n",
       "      <td>3.618889</td>\n",
       "      <td>Duke of Richmond</td>\n",
       "      <td>3.5</td>\n",
       "    </tr>\n",
       "  </tbody>\n",
       "</table>\n",
       "</div>"
      ],
      "text/plain": [
       "      density  mean_business_rating              name  rating\n",
       "7   72.574654              3.632675     The 3 Brewers     3.0\n",
       "9   47.269018              3.698653   The Blake House     4.0\n",
       "11  71.619724              3.618889  Duke of Richmond     3.5\n",
       "12  47.269018              3.698653   The Blake House     4.0\n",
       "14  71.619724              3.618889  Duke of Richmond     3.5"
      ]
     },
     "execution_count": 71,
     "metadata": {},
     "output_type": "execute_result"
    }
   ],
   "source": [
    "high_density_df = pd.DataFrame()\n",
    "high_density_df = final_df.loc[final_df['density'] > 40]\n",
    "high_density_df.head()"
   ]
  },
  {
   "cell_type": "code",
   "execution_count": 62,
   "metadata": {},
   "outputs": [
    {
     "data": {
      "image/png": "[encoded data removed]",
      "text/plain": [
       "<matplotlib.figure.Figure at 0x114aaa780>"
      ]
     },
     "metadata": {},
     "output_type": "display_data"
    }
   ],
   "source": [
    "#g = sns.lmplot(x=\"mean_business_rating\", y=\"density\", data=low_density_df,aspect=2.0, y_jitter=3.5, x_jitter=16)\n",
    "g = sns.lmplot(x=\"mean_business_rating\", y=\"density\", data=low_density_df,aspect=2.0)"
   ]
  },
  {
   "cell_type": "code",
   "execution_count": 73,
   "metadata": {},
   "outputs": [
    {
     "data": {
      "image/png": "[encoded data removed]",
      "text/plain": [
       "<matplotlib.figure.Figure at 0x114a84f60>"
      ]
     },
     "metadata": {},
     "output_type": "display_data"
    }
   ],
   "source": [
    "#g = sns.lmplot(x=\"mean_business_rating\", y=\"density\", data=high_density_df, aspect=2.0 , y_jitter=4.5, x_jitter=6)\n",
    "g = sns.lmplot(x=\"mean_business_rating\", y=\"density\", data=high_density_df, aspect=2.0)"
   ]
  },
  {
   "cell_type": "code",
   "execution_count": null,
   "metadata": {},
   "outputs": [],
   "source": []
  },
  {
   "cell_type": "code",
   "execution_count": null,
   "metadata": {},
   "outputs": [],
   "source": []
  },
  {
   "cell_type": "code",
   "execution_count": null,
   "metadata": {},
   "outputs": [],
   "source": []
  },
  {
   "cell_type": "code",
   "execution_count": null,
   "metadata": {},
   "outputs": [],
   "source": []
  }
 ],
 "metadata": {
  "kernelspec": {
   "display_name": "Python 3",
   "language": "python",
   "name": "python3"
  },
  "language_info": {
   "codemirror_mode": {
    "name": "ipython",
    "version": 3
   },
   "file_extension": ".py",
   "mimetype": "text/x-python",
   "name": "python",
   "nbconvert_exporter": "python",
   "pygments_lexer": "ipython3",
   "version": "3.6.3"
  }
 },
 "nbformat": 4,
 "nbformat_minor": 2
}
